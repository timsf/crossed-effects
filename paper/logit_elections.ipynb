{
 "cells": [
  {
   "cell_type": "code",
   "execution_count": null,
   "metadata": {},
   "outputs": [],
   "source": [
    "# dependencies\n",
    "\n",
    "import datetime\n",
    "\n",
    "import numpy as np\n",
    "import pandas as pd\n",
    "import matplotlib.pyplot as plt\n",
    "import seaborn as sns\n",
    "\n",
    "import xfx.custom.binomial\n",
    "import xfx.glm.binomial\n",
    "import xfx.misc.plot"
   ]
  },
  {
   "cell_type": "code",
   "execution_count": null,
   "metadata": {},
   "outputs": [],
   "source": [
    "# helper functions\n",
    "\n",
    "def package_samples(samples, factor_names, meta):\n",
    "\n",
    "    rfx_samples, prec_samples = zip(*samples)\n",
    "    rfx_samples = [np.array(samples_) for samples_ in zip(*rfx_samples)]\n",
    "    prec_samples = np.array(prec_samples)\n",
    "    return package_rfx_samples(rfx_samples, ['_const'] + factor_names, meta), package_prec_samples(prec_samples, factor_names, meta)\n",
    "\n",
    "def package_rfx_samples(rfx_samples, factor_names, meta):\n",
    "\n",
    "    dfs = []\n",
    "    for samples_, factor_name in zip(rfx_samples, factor_names):\n",
    "        df_ = pd.DataFrame(samples_.T)\n",
    "        df_.index = df_.index.rename('level')\n",
    "        df_.columns = df_.columns.rename('iter')\n",
    "        df_['factor'] = factor_name\n",
    "        for k, v in meta.items():\n",
    "            df_[k] = v\n",
    "        dfs.append(df_)\n",
    "    df = pd.concat(dfs).reset_index().set_index(list(meta.keys()) + ['factor', 'level'])\n",
    "    return df\n",
    "\n",
    "def package_prec_samples(prec_samples, factor_names, meta):\n",
    "\n",
    "    df = pd.DataFrame(prec_samples.T, index=factor_names)\n",
    "    df['factor'] = factor_names\n",
    "    for k, v in meta.items():\n",
    "        df[k] = v\n",
    "    df = df.set_index(list(meta.keys()) + ['factor'])\n",
    "    df.columns = df.columns.rename('iter')\n",
    "    return df\n",
    "\n",
    "def est_acf(samples, n_lags):\n",
    "\n",
    "    acf = samples.apply(lambda x: xfx.misc.plot.est_acf(x.values, n_lags), 1, False, 'expand')\n",
    "    acf.columns = acf.columns.rename('lag')\n",
    "    return acf\n",
    "\n",
    "def est_ess(acfs, titer):\n",
    "    \n",
    "    df = pd.DataFrame(index=acfs.index)\n",
    "    df['iat[iter]'] = acfs.apply(lambda x: xfx.misc.plot.est_int_autocor(x.values), 1, False, 'expand').rename('iat')\n",
    "    df['iat[sec]'] = df['iat[iter]'] * titer\n",
    "    df['rate[iter]'] = 1 / (2 * df['iat[iter]'])\n",
    "    df['rate[sec]'] = df['rate[iter]'] / titer\n",
    "    return df"
   ]
  },
  {
   "cell_type": "code",
   "execution_count": null,
   "metadata": {
    "pycharm": {
     "name": "#%%\n"
    }
   },
   "outputs": [],
   "source": [
    "# config\n",
    "\n",
    "factor_names = ['province_id', 'activity', 'age', 'education', 'municipality_size', 'voting_recall', 'gender']\n",
    "response_names = ['conservatives', 'social_democrats']\n",
    "exclude = ['abstention', 'invalid']\n",
    "seed = 0\n",
    "n_samples = 10000"
   ]
  },
  {
   "cell_type": "code",
   "execution_count": null,
   "metadata": {
    "pycharm": {
     "name": "#%%\n"
    }
   },
   "outputs": [],
   "source": [
    "# construct inputs\n",
    "\n",
    "cis = pd.read_csv('paper/data/cis.csv')\n",
    "cis = cis.loc[(cis.study_id == '2019-11-10') & (~cis.voting_intention.isin(exclude)) & (~cis.voting_intention.isna())]\n",
    "cis['response'] = np.where(cis.voting_intention.isin(response_names), cis.voting_intention, '_others')\n",
    "cis['voting_recall'] = np.where(cis.voting_recall.isin(response_names), cis.voting_recall, '_others')\n",
    "cis = cis[factor_names + ['response']].dropna()\n",
    "cis = cis.groupby(factor_names + ['response']).agg(lambda x: len(x)).unstack('response').fillna(0)\n",
    "codes = cis.index.to_frame().apply(lambda x: x.astype('category').cat.codes).astype(np.int64)\n",
    "\n",
    "indices = codes.values\n",
    "response = cis.social_democrats.values\n",
    "trials = cis.sum(1).values\n",
    "n_levels = np.max(indices, 0) + 1\n",
    "rng = np.random.default_rng(seed)\n",
    "prior_n_tau = np.repeat(len(response_names), len(n_levels))\n",
    "gibbs_inputs = {'y': response, 'n': trials, 'j': n_levels, 'i': indices, 'prior_est_tau': None, 'prior_n_tau': prior_n_tau}"
   ]
  },
  {
   "cell_type": "code",
   "execution_count": null,
   "metadata": {},
   "outputs": [],
   "source": [
    "# sample vanilla\n",
    "\n",
    "vanilla_sampler = xfx.custom.binomial.sample_posterior(**gibbs_inputs, x=None, collapse=False, ome=rng)\n",
    "next(vanilla_sampler)\n",
    "t0 = datetime.datetime.now()\n",
    "vanilla_samples = [next(vanilla_sampler) for _ in range(2 * n_samples)][n_samples:]\n",
    "t1 = datetime.datetime.now()\n",
    "vanilla_titer = (t1 - t0).total_seconds() / n_samples\n",
    "vanilla_samples = [s[:1] + s[2:3] for s in vanilla_samples]"
   ]
  },
  {
   "cell_type": "code",
   "execution_count": null,
   "metadata": {
    "pycharm": {
     "name": "#%%\n"
    }
   },
   "outputs": [],
   "source": [
    "# sample loccent\n",
    "\n",
    "loccent_sampler = xfx.glm.binomial.sample_posterior(**gibbs_inputs, ome=rng)\n",
    "next(loccent_sampler)\n",
    "t0 = datetime.datetime.now()\n",
    "loccent_samples = [next(loccent_sampler) for _ in range(2 * n_samples)][n_samples:]\n",
    "t1 = datetime.datetime.now()\n",
    "loccent_titer = (t1 - t0).total_seconds() / n_samples"
   ]
  },
  {
   "cell_type": "code",
   "execution_count": null,
   "metadata": {},
   "outputs": [],
   "source": [
    "# sample collapsed\n",
    "\n",
    "collapsed_sampler = xfx.custom.binomial.sample_posterior(**gibbs_inputs, x=None, collapse=True, ome=rng)\n",
    "next(collapsed_sampler)\n",
    "t0 = datetime.datetime.now()\n",
    "collapsed_samples = [next(collapsed_sampler) for _ in range(2 * n_samples)][n_samples:]\n",
    "t1 = datetime.datetime.now()\n",
    "collapsed_titer = (t1 - t0).total_seconds() / n_samples\n",
    "collapsed_samples = [s[:1] + s[2:3] for s in collapsed_samples]"
   ]
  },
  {
   "cell_type": "code",
   "execution_count": null,
   "metadata": {},
   "outputs": [],
   "source": [
    "# construct summaries\n",
    "\n",
    "vanilla_rfx_samples, vanilla_prec_samples = package_samples(vanilla_samples, factor_names, {'algo': 'PG/Van-G'})\n",
    "loccent_rfx_samples, loccent_prec_samples = package_samples(loccent_samples, factor_names, {'algo': 'LC-MwG'})\n",
    "collapsed_rfx_samples, collapsed_prec_samples = package_samples(collapsed_samples, factor_names, {'algo': 'PG/Col-G'})\n",
    "\n",
    "rfx_samples = pd.concat([vanilla_rfx_samples, loccent_rfx_samples, collapsed_rfx_samples])\n",
    "prec_samples = pd.concat([vanilla_prec_samples, loccent_prec_samples, collapsed_prec_samples])\n",
    "\n",
    "rfx_acf = est_acf(rfx_samples, 256)\n",
    "prec_acf = est_acf(prec_samples, 256)\n",
    "\n",
    "rfx_ess = est_ess(rfx_acf, 1)\n",
    "prec_ess = est_ess(prec_acf, 1)"
   ]
  },
  {
   "cell_type": "code",
   "execution_count": null,
   "metadata": {},
   "outputs": [],
   "source": [
    "acf = pd.concat([rfx_acf, prec_acf]).reset_index().melt(id_vars=['algo', 'factor', 'level'], var_name='lag')\n",
    "acf['level'] = acf.level.fillna(0)\n",
    "acf['factor'] = acf.factor.astype('category').cat.codes\n",
    "acf['group'] = (acf.factor.astype('str') + '-' + acf.level.astype('str')).astype('category').cat.codes\n",
    "acf['time'] = acf.lag.astype(int) * np.select([acf.algo == 'PG/Van-G', acf.algo == 'LC-MwG'], [vanilla_titer, loccent_titer], collapsed_titer)\n",
    "ess = pd.concat([rfx_ess, prec_ess]).reset_index()\n",
    "ess['level'] = ess.level.fillna(0)\n",
    "\n",
    "f, axes = plt.subplots(1, 2, figsize=(2 * (8/5 + 4/3), 2), gridspec_kw={'width_ratios': [8/5, 4/3]})\n",
    "g = sns.lineplot(data=acf, x='time', y='value', hue='algo', style='group', hue_order=('LC-MwG', 'PG/Van-G', 'PG/Col-G'), dashes=False, markers=False, legend=False, ci=None, alpha=1/3, lw=1/3, ax=axes[0])\n",
    "g.set(xlabel='wall time [sec]', ylabel='ACF', xlim=(-.25, 4.25))\n",
    "g = sns.boxplot(data=ess, y='algo', x='rate[sec]', order=('LC-MwG', 'PG/Van-G', 'PG/Col-G'), linewidth=1, fliersize=1, sym='o', ax=axes[1])\n",
    "g.set(ylabel='$\\\\quad$', xlabel='ESS/sec', xscale='log')"
   ]
  }
 ],
 "metadata": {
  "kernelspec": {
   "display_name": "xfx-v8IVivw0-py3.10",
   "language": "python",
   "name": "python3"
  },
  "language_info": {
   "codemirror_mode": {
    "name": "ipython",
    "version": 3
   },
   "file_extension": ".py",
   "mimetype": "text/x-python",
   "name": "python",
   "nbconvert_exporter": "python",
   "pygments_lexer": "ipython3",
   "version": "3.10.6 (main, Nov 14 2022, 16:10:14) [GCC 11.3.0]"
  },
  "metadata": {
   "interpreter": {
    "hash": "48270a795beff4afac506b9f5a1bba57b2b1bd6227e7fa82f4fe31bf58cdd14a"
   }
  },
  "vscode": {
   "interpreter": {
    "hash": "bfa90eb105e02586f49d13927d95a3f8b2865db9e646a82fa6bd5f993c25bf8e"
   }
  }
 },
 "nbformat": 4,
 "nbformat_minor": 1
}
