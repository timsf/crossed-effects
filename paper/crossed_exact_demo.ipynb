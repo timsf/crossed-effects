{
 "cells": [
  {
   "cell_type": "code",
   "execution_count": null,
   "source": [
    "# dependencies\n",
    "\n",
    "import datetime\n",
    "\n",
    "import numpy as np\n",
    "import pandas as pd\n",
    "import pystan as stan\n",
    "\n",
    "import xfx.mvglm.multinomial\n",
    "import xfx.misc.plot"
   ],
   "outputs": [],
   "metadata": {}
  },
  {
   "cell_type": "code",
   "execution_count": null,
   "source": [
    "# helper functions\n",
    "\n",
    "def package_cgibbs_samples(samples, factor_names, response_names):\n",
    "\n",
    "    rfx_samples, prec_samples = zip(*samples)\n",
    "    rfx_samples = [np.array(samples_) for samples_ in zip(*rfx_samples)]\n",
    "    prec_samples = np.trace(prec_samples, axis1=2, axis2=3).T\n",
    "    return package_rfx_samples(rfx_samples, ['_const'] + factor_names, response_names, 'cGibbs'), package_prec_samples(prec_samples, factor_names, 'cGibbs')\n",
    "\n",
    "def package_nuts_samples(samples, data, factor_names, response_names):\n",
    "\n",
    "    alp0_samples = samples['intercept'][:, 0, :-1]\n",
    "    alp_samples = [[alp_[:, lo:(hi+1)].T for lo, hi in zip(data['lo'] - 1, data['hi'] - 1)] for alp_ in samples['coefs'][:, 0, :-1]]\n",
    "    rfx_samples = [np.array(samples_) for samples_ in zip(*[[alp0_[np.newaxis]] + alp_ for alp0_, alp_ in zip(alp0_samples, alp_samples)])]\n",
    "    prec_samples = np.array([[np.trace(np.linalg.inv(tau__)) for tau__ in tau_] for tau_ in samples['cov_factor'][:, 0]]).T\n",
    "    return package_rfx_samples(rfx_samples, ['_const'] + factor_names, response_names, 'Stan/NUTS'), package_prec_samples(prec_samples, factor_names, 'Stan/NUTS')\n",
    "\n",
    "def package_rfx_samples(rfx_samples, factor_names, response_names, algo_name):\n",
    "\n",
    "    dfs = []\n",
    "    for i, (samples_, factor_name) in enumerate(zip(rfx_samples, factor_names)):\n",
    "        for j in range(samples_.shape[1]):\n",
    "            df_ = pd.DataFrame(samples_[:, j].T, index=response_names)\n",
    "            df_.index = df_.index.rename('response')\n",
    "            df_.columns = df_.columns.rename('iter')\n",
    "            df_['algo'] = algo_name\n",
    "            df_['factor'] = factor_name\n",
    "            df_['level'] = j\n",
    "            dfs.append(df_)\n",
    "    df = pd.concat(dfs).reset_index().set_index(['algo', 'factor', 'level', 'response'])\n",
    "    return df\n",
    "\n",
    "def package_prec_samples(prec_samples, factor_names, algo_name):\n",
    "\n",
    "    df = pd.DataFrame(prec_samples, index=factor_names)\n",
    "    df.index = df.index.rename('factor')\n",
    "    df.columns = df.columns.rename('iter')\n",
    "    df['algo'] = algo_name\n",
    "    df = df.reset_index().set_index(['algo', 'factor'])\n",
    "    return df\n",
    "\n",
    "def est_acf(samples, n_lags):\n",
    "\n",
    "    acf = samples.apply(lambda x: xfx.misc.plot.est_acf(x.values, n_lags), 1, False, 'expand')\n",
    "    acf.columns = acf.columns.rename('lag')\n",
    "    return acf\n",
    "\n",
    "def est_ess(acfs, titer):\n",
    "    \n",
    "    df = pd.DataFrame(index=acfs.index)\n",
    "    df['iat[iter]'] = acfs.apply(lambda x: xfx.misc.plot.est_int_autocor(x.values), 1, False, 'expand').rename('iat')\n",
    "    df['iat[sec]'] = df['iat[iter]'] * titer\n",
    "    df['rate[iter]'] = 1 / (2 * df['iat[iter]'])\n",
    "    df['rate[sec]'] = df['rate[iter]'] / titer\n",
    "    return df"
   ],
   "outputs": [],
   "metadata": {}
  },
  {
   "cell_type": "code",
   "execution_count": null,
   "source": [
    "# config\n",
    "\n",
    "factor_names = ['province_id', 'activity', 'age', 'education', 'municipality_size', 'voting_recall', 'gender']\n",
    "response_names = ['conservatives', 'social_democrats']\n",
    "exclude = ['abstention', 'invalid']\n",
    "seed = 0"
   ],
   "outputs": [],
   "metadata": {
    "pycharm": {
     "name": "#%%\n"
    }
   }
  },
  {
   "cell_type": "code",
   "execution_count": null,
   "source": [
    "# construct inputs\n",
    "\n",
    "cis = pd.read_csv('paper/data/cis.csv')\n",
    "cis = cis.loc[(cis.study_id == '2019-11-10') & (~cis.voting_intention.isin(exclude)) & (~cis.voting_intention.isna())]\n",
    "cis['response'] = np.where(cis.voting_intention.isin(response_names), cis.voting_intention, '_others')\n",
    "cis['voting_recall'] = np.where(cis.voting_recall.isin(response_names), cis.voting_recall, '_others')\n",
    "cis = cis[factor_names + ['response']].dropna()\n",
    "codes = cis.apply(lambda x: x.astype('category').cat.codes)\n",
    "response = pd.get_dummies(codes.response)\n",
    "indices = codes.drop('response', 1)\n",
    "n_levels = np.max(indices, 0).astype(np.int64) + 1\n",
    "rng = np.random.default_rng(seed)"
   ],
   "outputs": [],
   "metadata": {
    "pycharm": {
     "name": "#%%\n"
    }
   }
  },
  {
   "cell_type": "code",
   "execution_count": null,
   "source": [
    "# construct nuts inputs\n",
    "\n",
    "counts = codes.groupby(codes.columns.tolist()).size().unstack('response').fillna(0)\n",
    "coef_idx = counts.index.to_frame() + np.hstack([0, np.cumsum(n_levels[:-1])]) + 1\n",
    "nuts_inputs = {\n",
    "    'n_strata': counts.shape[0],\n",
    "    'n_parties': counts.shape[1],\n",
    "    'n_factors': len(n_levels),\n",
    "    'n_coefs': n_levels.sum(),\n",
    "    'prior_df': counts.shape[1] - 1,\n",
    "    'lo': np.hstack([0, np.cumsum(n_levels[:-1])]) + 1,\n",
    "    'hi': np.cumsum(n_levels).values,\n",
    "    'coef_idx': coef_idx.values,\n",
    "    'counts': counts.applymap(int).values}"
   ],
   "outputs": [],
   "metadata": {
    "pycharm": {
     "name": "#%%\n"
    }
   }
  },
  {
   "cell_type": "code",
   "execution_count": null,
   "source": [
    "# sample nuts\n",
    "\n",
    "nuts_n_samples = 1000\n",
    "stan_model = stan.StanModel('paper/stan/xfx_mvlogit2.stan')\n",
    "t0 = datetime.datetime.now()\n",
    "nuts_sampler = stan_model.sampling(data=nuts_inputs, iter=2*nuts_n_samples, warmup=nuts_n_samples, chains=1, seed=0)\n",
    "t1 = datetime.datetime.now()\n",
    "nuts_titer = (t1 - t0).total_seconds() / nuts_n_samples\n",
    "nuts_leaps = nuts_sampler.get_sampler_params(inc_warmup=False)[0]['n_leapfrog__'].mean()\n",
    "nuts_samples = nuts_sampler.extract(['intercept', 'coefs', 'cov_factor'], permuted=False)"
   ],
   "outputs": [],
   "metadata": {
    "pycharm": {
     "name": "#%%\n"
    },
    "tags": []
   }
  },
  {
   "cell_type": "code",
   "execution_count": null,
   "source": [
    "# nuts iteration time\n",
    "\n",
    "print(nuts_titer, nuts_leaps)"
   ],
   "outputs": [],
   "metadata": {}
  },
  {
   "cell_type": "code",
   "execution_count": null,
   "source": [
    "# compute nuts summaries\n",
    "\n",
    "nuts_rfx_samples, nuts_prec_samples = package_nuts_samples(nuts_samples, nuts_inputs, factor_names, response_names)\n",
    "nuts_rfx_acf, nuts_prec_acf = (est_acf(samples_, 64) for samples_ in (nuts_rfx_samples, nuts_prec_samples))\n",
    "nuts_rfx_ess, nuts_prec_ess = (est_ess(acfs_, nuts_titer) for acfs_ in (nuts_rfx_acf, nuts_prec_acf))"
   ],
   "outputs": [],
   "metadata": {}
  },
  {
   "cell_type": "code",
   "execution_count": null,
   "source": [
    "# construct cgibbs inputs\n",
    "\n",
    "prior_n_tau = np.repeat(len(response_names), len(n_levels))\n",
    "cgibbs_inputs = (response.values, n_levels.values, indices.values, None, prior_n_tau)"
   ],
   "outputs": [],
   "metadata": {
    "pycharm": {
     "name": "#%%\n"
    }
   }
  },
  {
   "cell_type": "code",
   "execution_count": null,
   "source": [
    "# sample cgibbs\n",
    "\n",
    "cgibbs_n_samples = 10000\n",
    "cgibbs_sampler = xfx.mvglm.multinomial.sample_posterior(*cgibbs_inputs, ome=rng)\n",
    "next(cgibbs_sampler)\n",
    "t0 = datetime.datetime.now()\n",
    "cgibbs_samples = [next(cgibbs_sampler) for _ in range(2 * cgibbs_n_samples)][cgibbs_n_samples:]\n",
    "t1 = datetime.datetime.now()\n",
    "cgibbs_titer = (t1 - t0).total_seconds() / cgibbs_n_samples"
   ],
   "outputs": [],
   "metadata": {
    "pycharm": {
     "name": "#%%\n"
    }
   }
  },
  {
   "cell_type": "code",
   "execution_count": null,
   "source": [
    "# cgibbs iteration time\n",
    "\n",
    "print(cgibbs_titer)"
   ],
   "outputs": [],
   "metadata": {}
  },
  {
   "cell_type": "code",
   "execution_count": null,
   "source": [
    "# compute cgibbs summaries\n",
    "\n",
    "cgibbs_rfx_samples, cgibbs_prec_samples = package_cgibbs_samples(cgibbs_samples, factor_names, response_names)\n",
    "cgibbs_rfx_acf, cgibbs_prec_acf = (est_acf(samples_, 256) for samples_ in (cgibbs_rfx_samples, cgibbs_prec_samples))\n",
    "cgibbs_rfx_ess, cgibbs_prec_ess = (est_ess(acfs_, cgibbs_titer) for acfs_ in (cgibbs_rfx_acf, cgibbs_prec_acf))"
   ],
   "outputs": [],
   "metadata": {}
  },
  {
   "cell_type": "code",
   "execution_count": null,
   "source": [
    "# nuts random effects ACFs\n",
    "\n",
    "nuts_rfx_acf"
   ],
   "outputs": [],
   "metadata": {}
  },
  {
   "cell_type": "code",
   "execution_count": null,
   "source": [
    "# nuts random effects ESS\n",
    "\n",
    "nuts_rfx_ess"
   ],
   "outputs": [],
   "metadata": {}
  },
  {
   "cell_type": "code",
   "execution_count": null,
   "source": [
    "# cgibbs random effects ACFs\n",
    "\n",
    "cgibbs_rfx_acf"
   ],
   "outputs": [],
   "metadata": {}
  },
  {
   "cell_type": "code",
   "execution_count": null,
   "source": [
    "# cgibbs random effects ESS\n",
    "\n",
    "cgibbs_rfx_ess"
   ],
   "outputs": [],
   "metadata": {}
  }
 ],
 "metadata": {
  "kernelspec": {
   "name": "python385jvsc74a57bd048270a795beff4afac506b9f5a1bba57b2b1bd6227e7fa82f4fe31bf58cdd14a",
   "display_name": "Python 3.8.5 64-bit ('xfx_remote-OVPgIAIG': venv)"
  },
  "language_info": {
   "codemirror_mode": {
    "name": "ipython",
    "version": 3
   },
   "file_extension": ".py",
   "mimetype": "text/x-python",
   "name": "python",
   "nbconvert_exporter": "python",
   "pygments_lexer": "ipython3",
   "version": "3.8.5"
  },
  "metadata": {
   "interpreter": {
    "hash": "48270a795beff4afac506b9f5a1bba57b2b1bd6227e7fa82f4fe31bf58cdd14a"
   }
  }
 },
 "nbformat": 4,
 "nbformat_minor": 1
}