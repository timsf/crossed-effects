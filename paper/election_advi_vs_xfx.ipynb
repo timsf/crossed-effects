{
 "metadata": {
  "language_info": {
   "codemirror_mode": {
    "name": "ipython",
    "version": 3
   },
   "file_extension": ".py",
   "mimetype": "text/x-python",
   "name": "python",
   "nbconvert_exporter": "python",
   "pygments_lexer": "ipython3",
   "version": "3.8.5"
  },
  "orig_nbformat": 2,
  "kernelspec": {
   "name": "python38264bitxfxremoteoqq78mkrvenv94be803e64b34517b1c1aaae55445b99",
   "display_name": "Python 3.8.2 64-bit ('xfx_remote-OqQ78Mkr': venv)",
   "language": "python"
  }
 },
 "nbformat": 4,
 "nbformat_minor": 2,
 "cells": [
  {
   "cell_type": "code",
   "execution_count": 4,
   "metadata": {},
   "outputs": [],
   "source": [
    "# dependencies\n",
    "\n",
    "import datetime\n",
    "import re\n",
    "\n",
    "import numpy as np\n",
    "import pandas as pd\n",
    "import stan as stan\n",
    "import matplotlib.pyplot as plt\n",
    "import seaborn as sns\n",
    "from scipy.special import softmax\n",
    "\n",
    "import xfx.mvglm2.multinomial\n",
    "from xfx.misc import plot\n",
    "\n",
    "sns.set()"
   ]
  },
  {
   "cell_type": "code",
   "execution_count": 5,
   "metadata": {},
   "outputs": [],
   "source": [
    "# spaghetti\n",
    "\n",
    "def format_vb_output(block_names, block_samples, n_samples):\n",
    "\n",
    "    uq_names = list(set([s.split('[')[0] for s in block_names]))\n",
    "    indices = {un: np.int32([re.findall('\\[(.+)\\]', n)[0].split(',') if '[' in n else np.array([]) for n in block_names if un == n.split('[')[0]]) - 1 for un in uq_names}\n",
    "    samples = {un: [s for n, s in zip(block_names, block_samples) if un == n.split('[')[0]] for un in uq_names}\n",
    "    arrays = {un: np.empty(np.append(indices[un].max(0) + 1, n_samples)) for un in uq_names}\n",
    "    for un in uq_names:\n",
    "        for ix, s in zip(indices[un], samples[un]):\n",
    "            arrays[un][tuple(ix)] = s\n",
    "        arrays[un] = np.transpose(arrays[un], [-1, *range(len(arrays[un].shape) - 1)])\n",
    "    return arrays\n",
    "\n",
    "def process_census(results_raw, participation_raw, election, parties):\n",
    "\n",
    "    results = results_raw.set_index(['election', 'province_id']).drop(['province'], axis=1)\n",
    "    participation = participation_raw.set_index(['election', 'province_id'])\n",
    "\n",
    "    results = results.loc[election, parties].fillna(0)\n",
    "    results.loc[:, '~others'] = 1 - results.sum(axis=1)\n",
    "\n",
    "    participation = participation.loc[election]\n",
    "    census = (results.T * participation.assigned).T\n",
    "    census['abstention'] = participation.abstention\n",
    "    census.columns.names = ('voting_recall',)\n",
    "    census = census.stack()\n",
    "\n",
    "    return census.sort_index()\n",
    "\n",
    "def process_surveys(surveys_raw, election, parties, covariates):\n",
    "\n",
    "    surveys = surveys_raw.set_index(['study_id', 'questionary_id'])\n",
    "    surveys = surveys.loc[surveys.election == election, covariates + ['voting_intention']].dropna()\n",
    "    surveys = surveys.loc[~surveys.voting_intention.isin(['invalid', 'blank'])]\n",
    "    surveys = surveys.loc[~surveys.voting_recall.isin(['invalid', 'blank'])]\n",
    "\n",
    "    surveys.loc[~surveys.voting_intention.isin(parties + ['abstention']), 'voting_intention'] = '~others'\n",
    "    surveys.loc[~surveys.voting_recall.isin(parties + ['abstention']), 'voting_recall'] = '~others'\n",
    "\n",
    "    return surveys\n",
    "\n",
    "def estimate_vote(prob, census):\n",
    "\n",
    "    counts = (prob.T * census.drop(0)).T.drop('abstention', 1).sum(0)\n",
    "    return counts / counts.sum()"
   ]
  },
  {
   "cell_type": "code",
   "execution_count": 6,
   "metadata": {},
   "outputs": [],
   "source": [
    "# config\n",
    "\n",
    "ome = np.random.default_rng()\n",
    "n_samples = 10000\n",
    "elections = {\n",
    "    '2019-04-28': ['conservatives', 'social_democrats'],\n",
    "    '2019-11-10': ['conservatives', 'social_democrats'],\n",
    "}\n",
    "factors = ['province_id', 'voting_recall']"
   ]
  },
  {
   "cell_type": "code",
   "execution_count": 7,
   "metadata": {},
   "outputs": [],
   "source": [
    "# import data\n",
    "\n",
    "results_raw = pd.read_csv('paper/output/election_votes.csv')\n",
    "participation_raw = pd.read_csv('paper/output/election_participation.csv')\n",
    "surveys_raw = pd.read_csv('paper/output/election_cis.csv')\n",
    "surveys = process_surveys(surveys_raw, list(elections.keys())[-1], list(elections.values())[-1], factors)\n",
    "census = process_census(results_raw, participation_raw, list(elections.keys())[0], list(elections.values())[0])"
   ]
  },
  {
   "cell_type": "code",
   "execution_count": 8,
   "metadata": {},
   "outputs": [],
   "source": [
    "# construct xfx inputs\n",
    "\n",
    "response, levels = surveys.voting_intention, surveys.drop('voting_intention', axis=1)\n",
    "xfx_response = pd.get_dummies(response)\n",
    "xfx_indices = levels.apply(lambda x: x.astype('category').cat.codes).astype('int64')\n",
    "n_levels = np.max(xfx_indices, 0).astype(np.int64) + 1"
   ]
  },
  {
   "cell_type": "code",
   "execution_count": 9,
   "metadata": {},
   "outputs": [
    {
     "output_type": "error",
     "ename": "TypeError",
     "evalue": "cannot unpack non-iterable numpy.random._generator.Generator object",
     "traceback": [
      "\u001b[0;31m---------------------------------------------------------------------------\u001b[0m",
      "\u001b[0;31mTypeError\u001b[0m                                 Traceback (most recent call last)",
      "\u001b[0;32m<ipython-input-9-a32dbb027896>\u001b[0m in \u001b[0;36m<module>\u001b[0;34m\u001b[0m\n\u001b[1;32m      2\u001b[0m \u001b[0;34m\u001b[0m\u001b[0m\n\u001b[1;32m      3\u001b[0m \u001b[0mxfx_sampler\u001b[0m \u001b[0;34m=\u001b[0m \u001b[0mxfx\u001b[0m\u001b[0;34m.\u001b[0m\u001b[0mmvglm2\u001b[0m\u001b[0;34m.\u001b[0m\u001b[0mmultinomial\u001b[0m\u001b[0;34m.\u001b[0m\u001b[0msample_posterior\u001b[0m\u001b[0;34m(\u001b[0m\u001b[0mn_levels\u001b[0m\u001b[0;34m.\u001b[0m\u001b[0mvalues\u001b[0m\u001b[0;34m,\u001b[0m \u001b[0mxfx_indices\u001b[0m\u001b[0;34m.\u001b[0m\u001b[0mvalues\u001b[0m\u001b[0;34m,\u001b[0m \u001b[0mxfx_response\u001b[0m\u001b[0;34m.\u001b[0m\u001b[0mvalues\u001b[0m\u001b[0;34m,\u001b[0m \u001b[0mome\u001b[0m\u001b[0;34m=\u001b[0m\u001b[0mome\u001b[0m\u001b[0;34m)\u001b[0m\u001b[0;34m\u001b[0m\u001b[0;34m\u001b[0m\u001b[0m\n\u001b[0;32m----> 4\u001b[0;31m \u001b[0mxfx_alp0\u001b[0m\u001b[0;34m,\u001b[0m \u001b[0mxfx_alp\u001b[0m\u001b[0;34m,\u001b[0m \u001b[0m_\u001b[0m \u001b[0;34m=\u001b[0m \u001b[0mzip\u001b[0m\u001b[0;34m(\u001b[0m\u001b[0;34m*\u001b[0m\u001b[0;34m[\u001b[0m\u001b[0mnext\u001b[0m\u001b[0;34m(\u001b[0m\u001b[0mxfx_sampler\u001b[0m\u001b[0;34m)\u001b[0m \u001b[0;32mfor\u001b[0m \u001b[0m_\u001b[0m \u001b[0;32min\u001b[0m \u001b[0mrange\u001b[0m\u001b[0;34m(\u001b[0m\u001b[0;36m2\u001b[0m \u001b[0;34m*\u001b[0m \u001b[0mn_samples\u001b[0m\u001b[0;34m)\u001b[0m\u001b[0;34m]\u001b[0m\u001b[0;34m[\u001b[0m\u001b[0mn_samples\u001b[0m\u001b[0;34m:\u001b[0m\u001b[0;34m:\u001b[0m\u001b[0;34m]\u001b[0m\u001b[0;34m)\u001b[0m\u001b[0;34m\u001b[0m\u001b[0;34m\u001b[0m\u001b[0m\n\u001b[0m",
      "\u001b[0;32m<ipython-input-9-a32dbb027896>\u001b[0m in \u001b[0;36m<listcomp>\u001b[0;34m(.0)\u001b[0m\n\u001b[1;32m      2\u001b[0m \u001b[0;34m\u001b[0m\u001b[0m\n\u001b[1;32m      3\u001b[0m \u001b[0mxfx_sampler\u001b[0m \u001b[0;34m=\u001b[0m \u001b[0mxfx\u001b[0m\u001b[0;34m.\u001b[0m\u001b[0mmvglm2\u001b[0m\u001b[0;34m.\u001b[0m\u001b[0mmultinomial\u001b[0m\u001b[0;34m.\u001b[0m\u001b[0msample_posterior\u001b[0m\u001b[0;34m(\u001b[0m\u001b[0mn_levels\u001b[0m\u001b[0;34m.\u001b[0m\u001b[0mvalues\u001b[0m\u001b[0;34m,\u001b[0m \u001b[0mxfx_indices\u001b[0m\u001b[0;34m.\u001b[0m\u001b[0mvalues\u001b[0m\u001b[0;34m,\u001b[0m \u001b[0mxfx_response\u001b[0m\u001b[0;34m.\u001b[0m\u001b[0mvalues\u001b[0m\u001b[0;34m,\u001b[0m \u001b[0mome\u001b[0m\u001b[0;34m=\u001b[0m\u001b[0mome\u001b[0m\u001b[0;34m)\u001b[0m\u001b[0;34m\u001b[0m\u001b[0;34m\u001b[0m\u001b[0m\n\u001b[0;32m----> 4\u001b[0;31m \u001b[0mxfx_alp0\u001b[0m\u001b[0;34m,\u001b[0m \u001b[0mxfx_alp\u001b[0m\u001b[0;34m,\u001b[0m \u001b[0m_\u001b[0m \u001b[0;34m=\u001b[0m \u001b[0mzip\u001b[0m\u001b[0;34m(\u001b[0m\u001b[0;34m*\u001b[0m\u001b[0;34m[\u001b[0m\u001b[0mnext\u001b[0m\u001b[0;34m(\u001b[0m\u001b[0mxfx_sampler\u001b[0m\u001b[0;34m)\u001b[0m \u001b[0;32mfor\u001b[0m \u001b[0m_\u001b[0m \u001b[0;32min\u001b[0m \u001b[0mrange\u001b[0m\u001b[0;34m(\u001b[0m\u001b[0;36m2\u001b[0m \u001b[0;34m*\u001b[0m \u001b[0mn_samples\u001b[0m\u001b[0;34m)\u001b[0m\u001b[0;34m]\u001b[0m\u001b[0;34m[\u001b[0m\u001b[0mn_samples\u001b[0m\u001b[0;34m:\u001b[0m\u001b[0;34m:\u001b[0m\u001b[0;34m]\u001b[0m\u001b[0;34m)\u001b[0m\u001b[0;34m\u001b[0m\u001b[0;34m\u001b[0m\u001b[0m\n\u001b[0m",
      "\u001b[0;32m~/Documents/research/hierarch/xfx_remote/xfx/mvglm2/gibbs.py\u001b[0m in \u001b[0;36msample_posterior\u001b[0;34m(j, i, y, eval_part, tau0, prior_n_tau, prior_est_tau, resid, init, ome)\u001b[0m\n\u001b[1;32m     41\u001b[0m         \u001b[0mtau\u001b[0m \u001b[0;34m=\u001b[0m \u001b[0mprior_est_tau\u001b[0m\u001b[0;34m\u001b[0m\u001b[0;34m\u001b[0m\u001b[0m\n\u001b[1;32m     42\u001b[0m     \u001b[0;32melse\u001b[0m\u001b[0;34m:\u001b[0m\u001b[0;34m\u001b[0m\u001b[0;34m\u001b[0m\u001b[0m\n\u001b[0;32m---> 43\u001b[0;31m         \u001b[0malp0\u001b[0m\u001b[0;34m,\u001b[0m \u001b[0malp\u001b[0m\u001b[0;34m,\u001b[0m \u001b[0mtau\u001b[0m \u001b[0;34m=\u001b[0m \u001b[0minit\u001b[0m\u001b[0;34m\u001b[0m\u001b[0;34m\u001b[0m\u001b[0m\n\u001b[0m\u001b[1;32m     44\u001b[0m \u001b[0;34m\u001b[0m\u001b[0m\n\u001b[1;32m     45\u001b[0m     \u001b[0;32mwhile\u001b[0m \u001b[0;32mTrue\u001b[0m\u001b[0;34m:\u001b[0m\u001b[0;34m\u001b[0m\u001b[0;34m\u001b[0m\u001b[0m\n",
      "\u001b[0;31mTypeError\u001b[0m: cannot unpack non-iterable numpy.random._generator.Generator object"
     ]
    }
   ],
   "source": [
    "# sample xfx\n",
    "\n",
    "xfx_sampler = xfx.mvglm2.multinomial.sample_posterior(n_levels.values, xfx_indices.values, xfx_response.values, ome=ome)\n",
    "xfx_alp0, xfx_alp, _ = zip(*[next(xfx_sampler) for _ in range(2 * n_samples)][n_samples::])"
   ]
  },
  {
   "cell_type": "code",
   "execution_count": 12,
   "metadata": {},
   "outputs": [
    {
     "output_type": "stream",
     "name": "stderr",
     "text": [
      "INFO:pystan:COMPILING THE C++ CODE FOR MODEL anon_model_cf96aaaa55bb5e41476a50e31d238c87 NOW.\n"
     ]
    }
   ],
   "source": [
    "# construct stan inputs\n",
    "\n",
    "stan_response = surveys.groupby(factors).voting_intention.value_counts().unstack('voting_intention').fillna(0).astype('int64')\n",
    "stan_levels = stan_response.index.to_frame()\n",
    "stan_indices = stan_levels.apply(lambda x: x.astype('category').cat.codes).astype('int64') + np.hstack([0, np.cumsum(n_levels[:-1])]) + 1\n",
    "\n",
    "stan_data = {\n",
    "    'n_strata': stan_response.shape[0],\n",
    "    'n_parties': stan_response.shape[1],\n",
    "    'n_factors': len(n_levels),\n",
    "    'n_coefs': n_levels.sum(),\n",
    "    'prior_df': stan_response.shape[1] - 1,\n",
    "    'lo': np.hstack([0, np.cumsum(n_levels[:-1])]) + 1,\n",
    "    'hi': np.cumsum(n_levels).values,\n",
    "    'coef_idx': stan_indices.values,\n",
    "    'counts': stan_response.values\n",
    "    }\n",
    "stan_model = stan.StanModel('paper/stan/xfx_mvlogit2.stan')"
   ]
  },
  {
   "cell_type": "code",
   "execution_count": 13,
   "metadata": {},
   "outputs": [
    {
     "output_type": "stream",
     "name": "stderr",
     "text": [
      "WARNING:pystan:Automatic Differentiation Variational Inference (ADVI) is an EXPERIMENTAL ALGORITHM.\n",
      "WARNING:pystan:ADVI samples may be found on the filesystem in the file `/tmp/tmpv92axk86/output.csv`\n"
     ]
    }
   ],
   "source": [
    "# sample stan\n",
    "\n",
    "raw_stan_samples = stan_model.vb(data=stan_data, iter=10000, tol_rel_obj=1e-10, output_samples=n_samples, seed=0, init='random')"
   ]
  },
  {
   "cell_type": "code",
   "execution_count": 24,
   "metadata": {},
   "outputs": [],
   "source": [
    "# generate predictive\n",
    "\n",
    "stan_arrays = format_vb_output(raw_stan_samples['sampler_param_names'], raw_stan_samples['sampler_params'], n_samples)\n",
    "stan_samples = np.swapaxes(np.dstack((stan_arrays['intercept'][:, :, np.newaxis], stan_arrays['coefs'])), 1, 2)\n",
    "xfx_samples = np.array([np.vstack([alp0_] + alp_) for alp0_, alp_ in zip(xfx_alp0, xfx_alp)])\n",
    "xfx_samples = np.dstack((xfx_samples, np.zeros(xfx_samples.shape[:2] + (1,))))\n",
    "levels_plus = census.drop(0).index.to_frame()\n",
    "indices_plus = levels_plus.apply(lambda x: x.astype('category').cat.codes).astype('int64')\n",
    "indices_plus['_constant'] = 0\n",
    "indices_plus = indices_plus[['_constant'] + factors]\n",
    "dummies_plus = pd.get_dummies(indices_plus, columns=indices_plus.columns).sort_index()\n",
    "xfx_probs = np.swapaxes(softmax(np.tensordot(xfx_samples, dummies_plus, (1, 1)), 1), 1, 2)\n",
    "stan_probs = np.swapaxes(softmax(np.tensordot(stan_samples, dummies_plus, (1, 1)), 1), 1, 2)\n",
    "xfx_predictions = np.array([estimate_vote(pd.DataFrame(sample_, levels_plus.index, stan_response.columns), census) for sample_ in xfx_probs])\n",
    "xfx_predictions = pd.DataFrame(xfx_predictions, columns=stan_response.columns.drop('abstention'))\n",
    "stan_predictions = np.array([estimate_vote(pd.DataFrame(sample_, levels_plus.index, stan_response.columns), census) for sample_ in stan_probs])\n",
    "stan_predictions = pd.DataFrame(stan_predictions, columns=stan_response.columns.drop('abstention'))"
   ]
  },
  {
   "source": [
    "# melt to tidy\n",
    "\n",
    "xfx_predictions['iter'] = xfx_predictions.index\n",
    "xfx_predictions_long = xfx_predictions.drop('~others', 1).melt('iter', var_name='party')\n",
    "xfx_predictions_long['algo'] = 'cGibbs'\n",
    "stan_predictions['iter'] = stan_predictions.index\n",
    "stan_predictions_long = stan_predictions.drop('~others', 1).melt('iter', var_name='party')\n",
    "stan_predictions_long['algo'] = 'Stan/ADVI'\n",
    "predictions_long = pd.concat([xfx_predictions_long, stan_predictions_long]).reset_index(drop=True)"
   ],
   "cell_type": "code",
   "metadata": {},
   "execution_count": 25,
   "outputs": []
  },
  {
   "source": [
    "# item 3\n",
    "\n",
    "df = predictions_long.pivot(index=['iter', 'algo'], columns='party').value.reset_index().reset_index(drop=True)\n",
    "g = sns.relplot(data=df, x='conservatives', y='social_democrats', hue='algo', col='algo', legend=False, hue_order=['Gibbs', 'Stan/ADVI'], col_order=['cGibbs', 'Stan/ADVI'], s=1, facet_kws={'sharex': True, 'sharey': True, 'margin_titles': True}, height=3)\n",
    "g.set(xlabel='Conservative vote')\n",
    "g.axes[0, 0].set_ylabel('Labour vote')\n",
    "g.set_titles(col_template='{col_name}')"
   ],
   "cell_type": "code",
   "metadata": {},
   "execution_count": 28,
   "outputs": [
    {
     "output_type": "execute_result",
     "data": {
      "text/plain": [
       "<seaborn.axisgrid.FacetGrid at 0x7f7fe07d5e80>"
      ]
     },
     "metadata": {},
     "execution_count": 28
    },
    {
     "output_type": "error",
     "ename": "RuntimeError",
     "evalue": "The command\n    pdflatex -interaction=nonstopmode -halt-on-error figure.tex\nfailed and generated the following output:\nThis is pdfTeX, Version 3.14159265-2.6-1.40.20 (TeX Live 2019/Debian) (preloaded format=pdflatex)\n restricted \\write18 enabled.\nentering extended mode\n(./figure.tex\nLaTeX2e <2020-02-02> patch level 2\nL3 programming layer <2020-02-14>\n(/usr/share/texlive/texmf-dist/tex/latex/hyperref/hyperref.sty\n(/usr/share/texlive/texmf-dist/tex/generic/ltxcmds/ltxcmds.sty)\n(/usr/share/texlive/texmf-dist/tex/generic/iftex/iftex.sty)\n(/usr/share/texlive/texmf-dist/tex/latex/pdftexcmds/pdftexcmds.sty\n(/usr/share/texlive/texmf-dist/tex/generic/infwarerr/infwarerr.sty))\n(/usr/share/texlive/texmf-dist/tex/latex/graphics/keyval.sty)\n(/usr/share/texlive/texmf-dist/tex/generic/kvsetkeys/kvsetkeys.sty)\n(/usr/share/texlive/texmf-dist/tex/generic/kvdefinekeys/kvdefinekeys.sty)\n(/usr/share/texlive/texmf-dist/tex/generic/pdfescape/pdfescape.sty)\n(/usr/share/texlive/texmf-dist/tex/latex/hycolor/hycolor.sty)\n(/usr/share/texlive/texmf-dist/tex/latex/letltxmacro/letltxmacro.sty)\n(/usr/share/texlive/texmf-dist/tex/latex/auxhook/auxhook.sty)\n(/usr/share/texlive/texmf-dist/tex/latex/kvoptions/kvoptions.sty)\n(/usr/share/texlive/texmf-dist/tex/latex/hyperref/pd1enc.def)\n(/usr/share/texlive/texmf-dist/tex/generic/intcalc/intcalc.sty)\n(/usr/share/texlive/texmf-dist/tex/generic/etexcmds/etexcmds.sty)\n(/usr/share/texlive/texmf-dist/tex/latex/url/url.sty)\n(/usr/share/texlive/texmf-dist/tex/generic/bitset/bitset.sty\n(/usr/share/texlive/texmf-dist/tex/generic/bigintcalc/bigintcalc.sty))\n(/usr/share/texlive/texmf-dist/tex/generic/atbegshi/atbegshi.sty)\n\nPackage hyperref Warning: Option `pdfpagelabels' is turned off\n(hyperref)                because \\thepage is undefined.\n\n) (/usr/share/texlive/texmf-dist/tex/latex/hyperref/hpdftex.def\n(/usr/share/texlive/texmf-dist/tex/latex/rerunfilecheck/rerunfilecheck.sty\n(/usr/share/texlive/texmf-dist/tex/latex/atveryend/atveryend.sty)\n(/usr/share/texlive/texmf-dist/tex/generic/uniquecounter/uniquecounter.sty)))\n(/usr/share/texlive/texmf-dist/tex/latex/base/minimal.cls\nDocument Class: minimal 2001/05/25 Standard LaTeX minimal class\n) (/usr/share/texlive/texmf-dist/tex/latex/geometry/geometry.sty\n(/usr/share/texlive/texmf-dist/tex/generic/iftex/ifvtex.sty))\n(/usr/share/texlive/texmf-dist/tex/latex/pgf/basiclayer/pgf.sty\n(/usr/share/texlive/texmf-dist/tex/latex/pgf/utilities/pgfrcs.sty\n(/usr/share/texlive/texmf-dist/tex/generic/pgf/utilities/pgfutil-common.tex\n(/usr/share/texlive/texmf-dist/tex/generic/pgf/utilities/pgfutil-common-lists.t\nex)) (/usr/share/texlive/texmf-dist/tex/generic/pgf/utilities/pgfutil-latex.def\n(/usr/share/texlive/texmf-dist/tex/latex/ms/everyshi.sty))\n(/usr/share/texlive/texmf-dist/tex/generic/pgf/utilities/pgfrcs.code.tex\n(/usr/share/texlive/texmf-dist/tex/generic/pgf/pgf.revision.tex)))\n(/usr/share/texlive/texmf-dist/tex/latex/pgf/basiclayer/pgfcore.sty\n(/usr/share/texlive/texmf-dist/tex/latex/graphics/graphicx.sty\n(/usr/share/texlive/texmf-dist/tex/latex/graphics/graphics.sty\n(/usr/share/texlive/texmf-dist/tex/latex/graphics/trig.sty)\n(/usr/share/texlive/texmf-dist/tex/latex/graphics-cfg/graphics.cfg)\n(/usr/share/texlive/texmf-dist/tex/latex/graphics-def/pdftex.def)))\n(/usr/share/texlive/texmf-dist/tex/latex/pgf/systemlayer/pgfsys.sty\n(/usr/share/texlive/texmf-dist/tex/generic/pgf/systemlayer/pgfsys.code.tex\n(/usr/share/texlive/texmf-dist/tex/generic/pgf/utilities/pgfkeys.code.tex\n(/usr/share/texlive/texmf-dist/tex/generic/pgf/utilities/pgfkeysfiltered.code.t\nex)) (/usr/share/texlive/texmf-dist/tex/generic/pgf/systemlayer/pgf.cfg)\n(/usr/share/texlive/texmf-dist/tex/generic/pgf/systemlayer/pgfsys-pdftex.def\n(/usr/share/texlive/texmf-dist/tex/generic/pgf/systemlayer/pgfsys-common-pdf.de\nf)))\n(/usr/share/texlive/texmf-dist/tex/generic/pgf/systemlayer/pgfsyssoftpath.code.\ntex)\n(/usr/share/texlive/texmf-dist/tex/generic/pgf/systemlayer/pgfsysprotocol.code.\ntex)) (/usr/share/texlive/texmf-dist/tex/latex/xcolor/xcolor.sty\n(/usr/share/texlive/texmf-dist/tex/latex/graphics-cfg/color.cfg))\n(/usr/share/texlive/texmf-dist/tex/generic/pgf/basiclayer/pgfcore.code.tex\n(/usr/share/texlive/texmf-dist/tex/generic/pgf/math/pgfmath.code.tex\n(/usr/share/texlive/texmf-dist/tex/generic/pgf/math/pgfmathcalc.code.tex\n(/usr/share/texlive/texmf-dist/tex/generic/pgf/math/pgfmathutil.code.tex)\n(/usr/share/texlive/texmf-dist/tex/generic/pgf/math/pgfmathparser.code.tex)\n(/usr/share/texlive/texmf-dist/tex/generic/pgf/math/pgfmathfunctions.code.tex\n(/usr/share/texlive/texmf-dist/tex/generic/pgf/math/pgfmathfunctions.basic.code\n.tex)\n(/usr/share/texlive/texmf-dist/tex/generic/pgf/math/pgfmathfunctions.trigonomet\nric.code.tex)\n(/usr/share/texlive/texmf-dist/tex/generic/pgf/math/pgfmathfunctions.random.cod\ne.tex)\n(/usr/share/texlive/texmf-dist/tex/generic/pgf/math/pgfmathfunctions.comparison\n.code.tex)\n(/usr/share/texlive/texmf-dist/tex/generic/pgf/math/pgfmathfunctions.base.code.\ntex)\n(/usr/share/texlive/texmf-dist/tex/generic/pgf/math/pgfmathfunctions.round.code\n.tex)\n(/usr/share/texlive/texmf-dist/tex/generic/pgf/math/pgfmathfunctions.misc.code.\ntex)\n(/usr/share/texlive/texmf-dist/tex/generic/pgf/math/pgfmathfunctions.integerari\nthmetics.code.tex)))\n(/usr/share/texlive/texmf-dist/tex/generic/pgf/math/pgfmathfloat.code.tex))\n(/usr/share/texlive/texmf-dist/tex/generic/pgf/math/pgfint.code.tex)\n(/usr/share/texlive/texmf-dist/tex/generic/pgf/basiclayer/pgfcorepoints.code.te\nx)\n(/usr/share/texlive/texmf-dist/tex/generic/pgf/basiclayer/pgfcorepathconstruct.\ncode.tex)\n(/usr/share/texlive/texmf-dist/tex/generic/pgf/basiclayer/pgfcorepathusage.code\n.tex)\n(/usr/share/texlive/texmf-dist/tex/generic/pgf/basiclayer/pgfcorescopes.code.te\nx)\n(/usr/share/texlive/texmf-dist/tex/generic/pgf/basiclayer/pgfcoregraphicstate.c\node.tex)\n(/usr/share/texlive/texmf-dist/tex/generic/pgf/basiclayer/pgfcoretransformation\ns.code.tex)\n(/usr/share/texlive/texmf-dist/tex/generic/pgf/basiclayer/pgfcorequick.code.tex\n)\n(/usr/share/texlive/texmf-dist/tex/generic/pgf/basiclayer/pgfcoreobjects.code.t\nex)\n(/usr/share/texlive/texmf-dist/tex/generic/pgf/basiclayer/pgfcorepathprocessing\n.code.tex)\n(/usr/share/texlive/texmf-dist/tex/generic/pgf/basiclayer/pgfcorearrows.code.te\nx)\n(/usr/share/texlive/texmf-dist/tex/generic/pgf/basiclayer/pgfcoreshade.code.tex\n)\n(/usr/share/texlive/texmf-dist/tex/generic/pgf/basiclayer/pgfcoreimage.code.tex\n\n(/usr/share/texlive/texmf-dist/tex/generic/pgf/basiclayer/pgfcoreexternal.code.\ntex))\n(/usr/share/texlive/texmf-dist/tex/generic/pgf/basiclayer/pgfcorelayers.code.te\nx)\n(/usr/share/texlive/texmf-dist/tex/generic/pgf/basiclayer/pgfcoretransparency.c\node.tex)\n(/usr/share/texlive/texmf-dist/tex/generic/pgf/basiclayer/pgfcorepatterns.code.\ntex)\n(/usr/share/texlive/texmf-dist/tex/generic/pgf/basiclayer/pgfcorerdf.code.tex))\n)\n(/usr/share/texlive/texmf-dist/tex/generic/pgf/modules/pgfmoduleshapes.code.tex\n) (/usr/share/texlive/texmf-dist/tex/generic/pgf/modules/pgfmoduleplot.code.tex\n)\n(/usr/share/texlive/texmf-dist/tex/latex/pgf/compatibility/pgfcomp-version-0-65\n.sty)\n(/usr/share/texlive/texmf-dist/tex/latex/pgf/compatibility/pgfcomp-version-1-18\n.sty)) (/usr/share/texlive/texmf-dist/tex/latex/l3backend/l3backend-pdfmode.def\n)\nNo file figure.aux.\n(/usr/share/texlive/texmf-dist/tex/latex/hyperref/nameref.sty\n(/usr/share/texlive/texmf-dist/tex/latex/refcount/refcount.sty)\n(/usr/share/texlive/texmf-dist/tex/generic/gettitlestring/gettitlestring.sty))\n*geometry* driver: auto-detecting\n*geometry* detected driver: pdftex\nABD: EveryShipout initializing macros\n(/usr/share/texlive/texmf-dist/tex/context/base/mkii/supp-pdf.mkii\n[Loading MPS to PDF converter (version 2006.09.02).]\n) (/usr/share/texlive/texmf-dist/tex/latex/epstopdf-pkg/epstopdf-base.sty\n(/usr/share/texlive/texmf-dist/tex/latex/latexconfig/epstopdf-sys.cfg))\n(./figure.pgf\nRunaway definition?\n->\n! TeX capacity exceeded, sorry [main memory size=5000000].\n\\pgf@sys@bp ...rrentprotocol {\\the \\pgfutil@toks@ \n                                                  }}\nl.151558 \\pgfusepath{stroke,fill}\n                                 %\n!  ==> Fatal error occurred, no output PDF file produced!\nTranscript written on figure.log.\n\nand the following error:\n",
     "traceback": [
      "\u001b[0;31m---------------------------------------------------------------------------\u001b[0m",
      "\u001b[0;31mRuntimeError\u001b[0m                              Traceback (most recent call last)",
      "\u001b[0;32m~/.virtualenvs/xfx_remote-OqQ78Mkr/lib/python3.8/site-packages/IPython/core/formatters.py\u001b[0m in \u001b[0;36m__call__\u001b[0;34m(self, obj)\u001b[0m\n\u001b[1;32m    339\u001b[0m                 \u001b[0;32mpass\u001b[0m\u001b[0;34m\u001b[0m\u001b[0;34m\u001b[0m\u001b[0m\n\u001b[1;32m    340\u001b[0m             \u001b[0;32melse\u001b[0m\u001b[0;34m:\u001b[0m\u001b[0;34m\u001b[0m\u001b[0;34m\u001b[0m\u001b[0m\n\u001b[0;32m--> 341\u001b[0;31m                 \u001b[0;32mreturn\u001b[0m \u001b[0mprinter\u001b[0m\u001b[0;34m(\u001b[0m\u001b[0mobj\u001b[0m\u001b[0;34m)\u001b[0m\u001b[0;34m\u001b[0m\u001b[0;34m\u001b[0m\u001b[0m\n\u001b[0m\u001b[1;32m    342\u001b[0m             \u001b[0;31m# Finally look for special method names\u001b[0m\u001b[0;34m\u001b[0m\u001b[0;34m\u001b[0m\u001b[0;34m\u001b[0m\u001b[0m\n\u001b[1;32m    343\u001b[0m             \u001b[0mmethod\u001b[0m \u001b[0;34m=\u001b[0m \u001b[0mget_real_method\u001b[0m\u001b[0;34m(\u001b[0m\u001b[0mobj\u001b[0m\u001b[0;34m,\u001b[0m \u001b[0mself\u001b[0m\u001b[0;34m.\u001b[0m\u001b[0mprint_method\u001b[0m\u001b[0;34m)\u001b[0m\u001b[0;34m\u001b[0m\u001b[0;34m\u001b[0m\u001b[0m\n",
      "\u001b[0;32m~/.virtualenvs/xfx_remote-OqQ78Mkr/lib/python3.8/site-packages/IPython/core/pylabtools.py\u001b[0m in \u001b[0;36m<lambda>\u001b[0;34m(fig)\u001b[0m\n\u001b[1;32m    246\u001b[0m \u001b[0;34m\u001b[0m\u001b[0m\n\u001b[1;32m    247\u001b[0m     \u001b[0;32mif\u001b[0m \u001b[0;34m'png'\u001b[0m \u001b[0;32min\u001b[0m \u001b[0mformats\u001b[0m\u001b[0;34m:\u001b[0m\u001b[0;34m\u001b[0m\u001b[0;34m\u001b[0m\u001b[0m\n\u001b[0;32m--> 248\u001b[0;31m         \u001b[0mpng_formatter\u001b[0m\u001b[0;34m.\u001b[0m\u001b[0mfor_type\u001b[0m\u001b[0;34m(\u001b[0m\u001b[0mFigure\u001b[0m\u001b[0;34m,\u001b[0m \u001b[0;32mlambda\u001b[0m \u001b[0mfig\u001b[0m\u001b[0;34m:\u001b[0m \u001b[0mprint_figure\u001b[0m\u001b[0;34m(\u001b[0m\u001b[0mfig\u001b[0m\u001b[0;34m,\u001b[0m \u001b[0;34m'png'\u001b[0m\u001b[0;34m,\u001b[0m \u001b[0;34m**\u001b[0m\u001b[0mkwargs\u001b[0m\u001b[0;34m)\u001b[0m\u001b[0;34m)\u001b[0m\u001b[0;34m\u001b[0m\u001b[0;34m\u001b[0m\u001b[0m\n\u001b[0m\u001b[1;32m    249\u001b[0m     \u001b[0;32mif\u001b[0m \u001b[0;34m'retina'\u001b[0m \u001b[0;32min\u001b[0m \u001b[0mformats\u001b[0m \u001b[0;32mor\u001b[0m \u001b[0;34m'png2x'\u001b[0m \u001b[0;32min\u001b[0m \u001b[0mformats\u001b[0m\u001b[0;34m:\u001b[0m\u001b[0;34m\u001b[0m\u001b[0;34m\u001b[0m\u001b[0m\n\u001b[1;32m    250\u001b[0m         \u001b[0mpng_formatter\u001b[0m\u001b[0;34m.\u001b[0m\u001b[0mfor_type\u001b[0m\u001b[0;34m(\u001b[0m\u001b[0mFigure\u001b[0m\u001b[0;34m,\u001b[0m \u001b[0;32mlambda\u001b[0m \u001b[0mfig\u001b[0m\u001b[0;34m:\u001b[0m \u001b[0mretina_figure\u001b[0m\u001b[0;34m(\u001b[0m\u001b[0mfig\u001b[0m\u001b[0;34m,\u001b[0m \u001b[0;34m**\u001b[0m\u001b[0mkwargs\u001b[0m\u001b[0;34m)\u001b[0m\u001b[0;34m)\u001b[0m\u001b[0;34m\u001b[0m\u001b[0;34m\u001b[0m\u001b[0m\n",
      "\u001b[0;32m~/.virtualenvs/xfx_remote-OqQ78Mkr/lib/python3.8/site-packages/IPython/core/pylabtools.py\u001b[0m in \u001b[0;36mprint_figure\u001b[0;34m(fig, fmt, bbox_inches, **kwargs)\u001b[0m\n\u001b[1;32m    130\u001b[0m         \u001b[0mFigureCanvasBase\u001b[0m\u001b[0;34m(\u001b[0m\u001b[0mfig\u001b[0m\u001b[0;34m)\u001b[0m\u001b[0;34m\u001b[0m\u001b[0;34m\u001b[0m\u001b[0m\n\u001b[1;32m    131\u001b[0m \u001b[0;34m\u001b[0m\u001b[0m\n\u001b[0;32m--> 132\u001b[0;31m     \u001b[0mfig\u001b[0m\u001b[0;34m.\u001b[0m\u001b[0mcanvas\u001b[0m\u001b[0;34m.\u001b[0m\u001b[0mprint_figure\u001b[0m\u001b[0;34m(\u001b[0m\u001b[0mbytes_io\u001b[0m\u001b[0;34m,\u001b[0m \u001b[0;34m**\u001b[0m\u001b[0mkw\u001b[0m\u001b[0;34m)\u001b[0m\u001b[0;34m\u001b[0m\u001b[0;34m\u001b[0m\u001b[0m\n\u001b[0m\u001b[1;32m    133\u001b[0m     \u001b[0mdata\u001b[0m \u001b[0;34m=\u001b[0m \u001b[0mbytes_io\u001b[0m\u001b[0;34m.\u001b[0m\u001b[0mgetvalue\u001b[0m\u001b[0;34m(\u001b[0m\u001b[0;34m)\u001b[0m\u001b[0;34m\u001b[0m\u001b[0;34m\u001b[0m\u001b[0m\n\u001b[1;32m    134\u001b[0m     \u001b[0;32mif\u001b[0m \u001b[0mfmt\u001b[0m \u001b[0;34m==\u001b[0m \u001b[0;34m'svg'\u001b[0m\u001b[0;34m:\u001b[0m\u001b[0;34m\u001b[0m\u001b[0;34m\u001b[0m\u001b[0m\n",
      "\u001b[0;32m~/.virtualenvs/xfx_remote-OqQ78Mkr/lib/python3.8/site-packages/matplotlib/backend_bases.py\u001b[0m in \u001b[0;36mprint_figure\u001b[0;34m(self, filename, dpi, facecolor, edgecolor, orientation, format, bbox_inches, pad_inches, bbox_extra_artists, backend, **kwargs)\u001b[0m\n\u001b[1;32m   2208\u001b[0m \u001b[0;34m\u001b[0m\u001b[0m\n\u001b[1;32m   2209\u001b[0m             \u001b[0;32mtry\u001b[0m\u001b[0;34m:\u001b[0m\u001b[0;34m\u001b[0m\u001b[0;34m\u001b[0m\u001b[0m\n\u001b[0;32m-> 2210\u001b[0;31m                 result = print_method(\n\u001b[0m\u001b[1;32m   2211\u001b[0m                     \u001b[0mfilename\u001b[0m\u001b[0;34m,\u001b[0m\u001b[0;34m\u001b[0m\u001b[0;34m\u001b[0m\u001b[0m\n\u001b[1;32m   2212\u001b[0m                     \u001b[0mdpi\u001b[0m\u001b[0;34m=\u001b[0m\u001b[0mdpi\u001b[0m\u001b[0;34m,\u001b[0m\u001b[0;34m\u001b[0m\u001b[0;34m\u001b[0m\u001b[0m\n",
      "\u001b[0;32m~/.virtualenvs/xfx_remote-OqQ78Mkr/lib/python3.8/site-packages/matplotlib/backends/backend_pgf.py\u001b[0m in \u001b[0;36mprint_png\u001b[0;34m(self, fname_or_fh, *args, **kwargs)\u001b[0m\n\u001b[1;32m    966\u001b[0m             \u001b[0;32mreturn\u001b[0m\u001b[0;34m\u001b[0m\u001b[0;34m\u001b[0m\u001b[0m\n\u001b[1;32m    967\u001b[0m         \u001b[0;32mwith\u001b[0m \u001b[0mcbook\u001b[0m\u001b[0;34m.\u001b[0m\u001b[0mopen_file_cm\u001b[0m\u001b[0;34m(\u001b[0m\u001b[0mfname_or_fh\u001b[0m\u001b[0;34m,\u001b[0m \u001b[0;34m\"wb\"\u001b[0m\u001b[0;34m)\u001b[0m \u001b[0;32mas\u001b[0m \u001b[0mfile\u001b[0m\u001b[0;34m:\u001b[0m\u001b[0;34m\u001b[0m\u001b[0;34m\u001b[0m\u001b[0m\n\u001b[0;32m--> 968\u001b[0;31m             \u001b[0mself\u001b[0m\u001b[0;34m.\u001b[0m\u001b[0m_print_png_to_fh\u001b[0m\u001b[0;34m(\u001b[0m\u001b[0mfile\u001b[0m\u001b[0;34m,\u001b[0m \u001b[0;34m*\u001b[0m\u001b[0margs\u001b[0m\u001b[0;34m,\u001b[0m \u001b[0;34m**\u001b[0m\u001b[0mkwargs\u001b[0m\u001b[0;34m)\u001b[0m\u001b[0;34m\u001b[0m\u001b[0;34m\u001b[0m\u001b[0m\n\u001b[0m\u001b[1;32m    969\u001b[0m \u001b[0;34m\u001b[0m\u001b[0m\n\u001b[1;32m    970\u001b[0m     \u001b[0;32mdef\u001b[0m \u001b[0mget_renderer\u001b[0m\u001b[0;34m(\u001b[0m\u001b[0mself\u001b[0m\u001b[0;34m)\u001b[0m\u001b[0;34m:\u001b[0m\u001b[0;34m\u001b[0m\u001b[0;34m\u001b[0m\u001b[0m\n",
      "\u001b[0;32m~/.virtualenvs/xfx_remote-OqQ78Mkr/lib/python3.8/site-packages/matplotlib/backends/backend_pgf.py\u001b[0m in \u001b[0;36m_print_png_to_fh\u001b[0;34m(self, fh, *args, **kwargs)\u001b[0m\n\u001b[1;32m    949\u001b[0m             \u001b[0mfname_png\u001b[0m \u001b[0;34m=\u001b[0m \u001b[0mos\u001b[0m\u001b[0;34m.\u001b[0m\u001b[0mpath\u001b[0m\u001b[0;34m.\u001b[0m\u001b[0mjoin\u001b[0m\u001b[0;34m(\u001b[0m\u001b[0mtmpdir\u001b[0m\u001b[0;34m,\u001b[0m \u001b[0;34m\"figure.png\"\u001b[0m\u001b[0;34m)\u001b[0m\u001b[0;34m\u001b[0m\u001b[0;34m\u001b[0m\u001b[0m\n\u001b[1;32m    950\u001b[0m             \u001b[0;31m# create pdf and try to convert it to png\u001b[0m\u001b[0;34m\u001b[0m\u001b[0;34m\u001b[0m\u001b[0;34m\u001b[0m\u001b[0m\n\u001b[0;32m--> 951\u001b[0;31m             \u001b[0mself\u001b[0m\u001b[0;34m.\u001b[0m\u001b[0mprint_pdf\u001b[0m\u001b[0;34m(\u001b[0m\u001b[0mfname_pdf\u001b[0m\u001b[0;34m,\u001b[0m \u001b[0;34m*\u001b[0m\u001b[0margs\u001b[0m\u001b[0;34m,\u001b[0m \u001b[0;34m**\u001b[0m\u001b[0mkwargs\u001b[0m\u001b[0;34m)\u001b[0m\u001b[0;34m\u001b[0m\u001b[0;34m\u001b[0m\u001b[0m\n\u001b[0m\u001b[1;32m    952\u001b[0m             \u001b[0mconverter\u001b[0m\u001b[0;34m(\u001b[0m\u001b[0mfname_pdf\u001b[0m\u001b[0;34m,\u001b[0m \u001b[0mfname_png\u001b[0m\u001b[0;34m,\u001b[0m \u001b[0mdpi\u001b[0m\u001b[0;34m=\u001b[0m\u001b[0mself\u001b[0m\u001b[0;34m.\u001b[0m\u001b[0mfigure\u001b[0m\u001b[0;34m.\u001b[0m\u001b[0mdpi\u001b[0m\u001b[0;34m)\u001b[0m\u001b[0;34m\u001b[0m\u001b[0;34m\u001b[0m\u001b[0m\n\u001b[1;32m    953\u001b[0m             \u001b[0;31m# copy file contents to target\u001b[0m\u001b[0;34m\u001b[0m\u001b[0;34m\u001b[0m\u001b[0;34m\u001b[0m\u001b[0m\n",
      "\u001b[0;32m~/.virtualenvs/xfx_remote-OqQ78Mkr/lib/python3.8/site-packages/matplotlib/backends/backend_pgf.py\u001b[0m in \u001b[0;36mprint_pdf\u001b[0;34m(self, fname_or_fh, *args, **kwargs)\u001b[0m\n\u001b[1;32m    938\u001b[0m             \u001b[0;32mreturn\u001b[0m\u001b[0;34m\u001b[0m\u001b[0;34m\u001b[0m\u001b[0m\n\u001b[1;32m    939\u001b[0m         \u001b[0;32mwith\u001b[0m \u001b[0mcbook\u001b[0m\u001b[0;34m.\u001b[0m\u001b[0mopen_file_cm\u001b[0m\u001b[0;34m(\u001b[0m\u001b[0mfname_or_fh\u001b[0m\u001b[0;34m,\u001b[0m \u001b[0;34m\"wb\"\u001b[0m\u001b[0;34m)\u001b[0m \u001b[0;32mas\u001b[0m \u001b[0mfile\u001b[0m\u001b[0;34m:\u001b[0m\u001b[0;34m\u001b[0m\u001b[0;34m\u001b[0m\u001b[0m\n\u001b[0;32m--> 940\u001b[0;31m             \u001b[0mself\u001b[0m\u001b[0;34m.\u001b[0m\u001b[0m_print_pdf_to_fh\u001b[0m\u001b[0;34m(\u001b[0m\u001b[0mfile\u001b[0m\u001b[0;34m,\u001b[0m \u001b[0;34m*\u001b[0m\u001b[0margs\u001b[0m\u001b[0;34m,\u001b[0m \u001b[0;34m**\u001b[0m\u001b[0mkwargs\u001b[0m\u001b[0;34m)\u001b[0m\u001b[0;34m\u001b[0m\u001b[0;34m\u001b[0m\u001b[0m\n\u001b[0m\u001b[1;32m    941\u001b[0m \u001b[0;34m\u001b[0m\u001b[0m\n\u001b[1;32m    942\u001b[0m     \u001b[0;32mdef\u001b[0m \u001b[0m_print_png_to_fh\u001b[0m\u001b[0;34m(\u001b[0m\u001b[0mself\u001b[0m\u001b[0;34m,\u001b[0m \u001b[0mfh\u001b[0m\u001b[0;34m,\u001b[0m \u001b[0;34m*\u001b[0m\u001b[0margs\u001b[0m\u001b[0;34m,\u001b[0m \u001b[0;34m**\u001b[0m\u001b[0mkwargs\u001b[0m\u001b[0;34m)\u001b[0m\u001b[0;34m:\u001b[0m\u001b[0;34m\u001b[0m\u001b[0;34m\u001b[0m\u001b[0m\n",
      "\u001b[0;32m~/.virtualenvs/xfx_remote-OqQ78Mkr/lib/python3.8/site-packages/matplotlib/backends/backend_pgf.py\u001b[0m in \u001b[0;36m_print_pdf_to_fh\u001b[0;34m(self, fh, metadata, *args, **kwargs)\u001b[0m\n\u001b[1;32m    919\u001b[0m \u001b[0;34m\u001b[0m\u001b[0m\n\u001b[1;32m    920\u001b[0m             \u001b[0mtexcommand\u001b[0m \u001b[0;34m=\u001b[0m \u001b[0mmpl\u001b[0m\u001b[0;34m.\u001b[0m\u001b[0mrcParams\u001b[0m\u001b[0;34m[\u001b[0m\u001b[0;34m\"pgf.texsystem\"\u001b[0m\u001b[0;34m]\u001b[0m\u001b[0;34m\u001b[0m\u001b[0;34m\u001b[0m\u001b[0m\n\u001b[0;32m--> 921\u001b[0;31m             cbook._check_and_log_subprocess(\n\u001b[0m\u001b[1;32m    922\u001b[0m                 [texcommand, \"-interaction=nonstopmode\", \"-halt-on-error\",\n\u001b[1;32m    923\u001b[0m                  \"figure.tex\"], _log, cwd=tmpdir)\n",
      "\u001b[0;32m~/.virtualenvs/xfx_remote-OqQ78Mkr/lib/python3.8/site-packages/matplotlib/cbook/__init__.py\u001b[0m in \u001b[0;36m_check_and_log_subprocess\u001b[0;34m(command, logger, **kwargs)\u001b[0m\n\u001b[1;32m   2198\u001b[0m         \u001b[0;32mif\u001b[0m \u001b[0misinstance\u001b[0m\u001b[0;34m(\u001b[0m\u001b[0mstderr\u001b[0m\u001b[0;34m,\u001b[0m \u001b[0mbytes\u001b[0m\u001b[0;34m)\u001b[0m\u001b[0;34m:\u001b[0m\u001b[0;34m\u001b[0m\u001b[0;34m\u001b[0m\u001b[0m\n\u001b[1;32m   2199\u001b[0m             \u001b[0mstderr\u001b[0m \u001b[0;34m=\u001b[0m \u001b[0mstderr\u001b[0m\u001b[0;34m.\u001b[0m\u001b[0mdecode\u001b[0m\u001b[0;34m(\u001b[0m\u001b[0;34m)\u001b[0m\u001b[0;34m\u001b[0m\u001b[0;34m\u001b[0m\u001b[0m\n\u001b[0;32m-> 2200\u001b[0;31m         raise RuntimeError(\n\u001b[0m\u001b[1;32m   2201\u001b[0m             \u001b[0;34mf\"The command\\n\"\u001b[0m\u001b[0;34m\u001b[0m\u001b[0;34m\u001b[0m\u001b[0m\n\u001b[1;32m   2202\u001b[0m             \u001b[0;34mf\"    {_pformat_subprocess(command)}\\n\"\u001b[0m\u001b[0;34m\u001b[0m\u001b[0;34m\u001b[0m\u001b[0m\n",
      "\u001b[0;31mRuntimeError\u001b[0m: The command\n    pdflatex -interaction=nonstopmode -halt-on-error figure.tex\nfailed and generated the following output:\nThis is pdfTeX, Version 3.14159265-2.6-1.40.20 (TeX Live 2019/Debian) (preloaded format=pdflatex)\n restricted \\write18 enabled.\nentering extended mode\n(./figure.tex\nLaTeX2e <2020-02-02> patch level 2\nL3 programming layer <2020-02-14>\n(/usr/share/texlive/texmf-dist/tex/latex/hyperref/hyperref.sty\n(/usr/share/texlive/texmf-dist/tex/generic/ltxcmds/ltxcmds.sty)\n(/usr/share/texlive/texmf-dist/tex/generic/iftex/iftex.sty)\n(/usr/share/texlive/texmf-dist/tex/latex/pdftexcmds/pdftexcmds.sty\n(/usr/share/texlive/texmf-dist/tex/generic/infwarerr/infwarerr.sty))\n(/usr/share/texlive/texmf-dist/tex/latex/graphics/keyval.sty)\n(/usr/share/texlive/texmf-dist/tex/generic/kvsetkeys/kvsetkeys.sty)\n(/usr/share/texlive/texmf-dist/tex/generic/kvdefinekeys/kvdefinekeys.sty)\n(/usr/share/texlive/texmf-dist/tex/generic/pdfescape/pdfescape.sty)\n(/usr/share/texlive/texmf-dist/tex/latex/hycolor/hycolor.sty)\n(/usr/share/texlive/texmf-dist/tex/latex/letltxmacro/letltxmacro.sty)\n(/usr/share/texlive/texmf-dist/tex/latex/auxhook/auxhook.sty)\n(/usr/share/texlive/texmf-dist/tex/latex/kvoptions/kvoptions.sty)\n(/usr/share/texlive/texmf-dist/tex/latex/hyperref/pd1enc.def)\n(/usr/share/texlive/texmf-dist/tex/generic/intcalc/intcalc.sty)\n(/usr/share/texlive/texmf-dist/tex/generic/etexcmds/etexcmds.sty)\n(/usr/share/texlive/texmf-dist/tex/latex/url/url.sty)\n(/usr/share/texlive/texmf-dist/tex/generic/bitset/bitset.sty\n(/usr/share/texlive/texmf-dist/tex/generic/bigintcalc/bigintcalc.sty))\n(/usr/share/texlive/texmf-dist/tex/generic/atbegshi/atbegshi.sty)\n\nPackage hyperref Warning: Option `pdfpagelabels' is turned off\n(hyperref)                because \\thepage is undefined.\n\n) (/usr/share/texlive/texmf-dist/tex/latex/hyperref/hpdftex.def\n(/usr/share/texlive/texmf-dist/tex/latex/rerunfilecheck/rerunfilecheck.sty\n(/usr/share/texlive/texmf-dist/tex/latex/atveryend/atveryend.sty)\n(/usr/share/texlive/texmf-dist/tex/generic/uniquecounter/uniquecounter.sty)))\n(/usr/share/texlive/texmf-dist/tex/latex/base/minimal.cls\nDocument Class: minimal 2001/05/25 Standard LaTeX minimal class\n) (/usr/share/texlive/texmf-dist/tex/latex/geometry/geometry.sty\n(/usr/share/texlive/texmf-dist/tex/generic/iftex/ifvtex.sty))\n(/usr/share/texlive/texmf-dist/tex/latex/pgf/basiclayer/pgf.sty\n(/usr/share/texlive/texmf-dist/tex/latex/pgf/utilities/pgfrcs.sty\n(/usr/share/texlive/texmf-dist/tex/generic/pgf/utilities/pgfutil-common.tex\n(/usr/share/texlive/texmf-dist/tex/generic/pgf/utilities/pgfutil-common-lists.t\nex)) (/usr/share/texlive/texmf-dist/tex/generic/pgf/utilities/pgfutil-latex.def\n(/usr/share/texlive/texmf-dist/tex/latex/ms/everyshi.sty))\n(/usr/share/texlive/texmf-dist/tex/generic/pgf/utilities/pgfrcs.code.tex\n(/usr/share/texlive/texmf-dist/tex/generic/pgf/pgf.revision.tex)))\n(/usr/share/texlive/texmf-dist/tex/latex/pgf/basiclayer/pgfcore.sty\n(/usr/share/texlive/texmf-dist/tex/latex/graphics/graphicx.sty\n(/usr/share/texlive/texmf-dist/tex/latex/graphics/graphics.sty\n(/usr/share/texlive/texmf-dist/tex/latex/graphics/trig.sty)\n(/usr/share/texlive/texmf-dist/tex/latex/graphics-cfg/graphics.cfg)\n(/usr/share/texlive/texmf-dist/tex/latex/graphics-def/pdftex.def)))\n(/usr/share/texlive/texmf-dist/tex/latex/pgf/systemlayer/pgfsys.sty\n(/usr/share/texlive/texmf-dist/tex/generic/pgf/systemlayer/pgfsys.code.tex\n(/usr/share/texlive/texmf-dist/tex/generic/pgf/utilities/pgfkeys.code.tex\n(/usr/share/texlive/texmf-dist/tex/generic/pgf/utilities/pgfkeysfiltered.code.t\nex)) (/usr/share/texlive/texmf-dist/tex/generic/pgf/systemlayer/pgf.cfg)\n(/usr/share/texlive/texmf-dist/tex/generic/pgf/systemlayer/pgfsys-pdftex.def\n(/usr/share/texlive/texmf-dist/tex/generic/pgf/systemlayer/pgfsys-common-pdf.de\nf)))\n(/usr/share/texlive/texmf-dist/tex/generic/pgf/systemlayer/pgfsyssoftpath.code.\ntex)\n(/usr/share/texlive/texmf-dist/tex/generic/pgf/systemlayer/pgfsysprotocol.code.\ntex)) (/usr/share/texlive/texmf-dist/tex/latex/xcolor/xcolor.sty\n(/usr/share/texlive/texmf-dist/tex/latex/graphics-cfg/color.cfg))\n(/usr/share/texlive/texmf-dist/tex/generic/pgf/basiclayer/pgfcore.code.tex\n(/usr/share/texlive/texmf-dist/tex/generic/pgf/math/pgfmath.code.tex\n(/usr/share/texlive/texmf-dist/tex/generic/pgf/math/pgfmathcalc.code.tex\n(/usr/share/texlive/texmf-dist/tex/generic/pgf/math/pgfmathutil.code.tex)\n(/usr/share/texlive/texmf-dist/tex/generic/pgf/math/pgfmathparser.code.tex)\n(/usr/share/texlive/texmf-dist/tex/generic/pgf/math/pgfmathfunctions.code.tex\n(/usr/share/texlive/texmf-dist/tex/generic/pgf/math/pgfmathfunctions.basic.code\n.tex)\n(/usr/share/texlive/texmf-dist/tex/generic/pgf/math/pgfmathfunctions.trigonomet\nric.code.tex)\n(/usr/share/texlive/texmf-dist/tex/generic/pgf/math/pgfmathfunctions.random.cod\ne.tex)\n(/usr/share/texlive/texmf-dist/tex/generic/pgf/math/pgfmathfunctions.comparison\n.code.tex)\n(/usr/share/texlive/texmf-dist/tex/generic/pgf/math/pgfmathfunctions.base.code.\ntex)\n(/usr/share/texlive/texmf-dist/tex/generic/pgf/math/pgfmathfunctions.round.code\n.tex)\n(/usr/share/texlive/texmf-dist/tex/generic/pgf/math/pgfmathfunctions.misc.code.\ntex)\n(/usr/share/texlive/texmf-dist/tex/generic/pgf/math/pgfmathfunctions.integerari\nthmetics.code.tex)))\n(/usr/share/texlive/texmf-dist/tex/generic/pgf/math/pgfmathfloat.code.tex))\n(/usr/share/texlive/texmf-dist/tex/generic/pgf/math/pgfint.code.tex)\n(/usr/share/texlive/texmf-dist/tex/generic/pgf/basiclayer/pgfcorepoints.code.te\nx)\n(/usr/share/texlive/texmf-dist/tex/generic/pgf/basiclayer/pgfcorepathconstruct.\ncode.tex)\n(/usr/share/texlive/texmf-dist/tex/generic/pgf/basiclayer/pgfcorepathusage.code\n.tex)\n(/usr/share/texlive/texmf-dist/tex/generic/pgf/basiclayer/pgfcorescopes.code.te\nx)\n(/usr/share/texlive/texmf-dist/tex/generic/pgf/basiclayer/pgfcoregraphicstate.c\node.tex)\n(/usr/share/texlive/texmf-dist/tex/generic/pgf/basiclayer/pgfcoretransformation\ns.code.tex)\n(/usr/share/texlive/texmf-dist/tex/generic/pgf/basiclayer/pgfcorequick.code.tex\n)\n(/usr/share/texlive/texmf-dist/tex/generic/pgf/basiclayer/pgfcoreobjects.code.t\nex)\n(/usr/share/texlive/texmf-dist/tex/generic/pgf/basiclayer/pgfcorepathprocessing\n.code.tex)\n(/usr/share/texlive/texmf-dist/tex/generic/pgf/basiclayer/pgfcorearrows.code.te\nx)\n(/usr/share/texlive/texmf-dist/tex/generic/pgf/basiclayer/pgfcoreshade.code.tex\n)\n(/usr/share/texlive/texmf-dist/tex/generic/pgf/basiclayer/pgfcoreimage.code.tex\n\n(/usr/share/texlive/texmf-dist/tex/generic/pgf/basiclayer/pgfcoreexternal.code.\ntex))\n(/usr/share/texlive/texmf-dist/tex/generic/pgf/basiclayer/pgfcorelayers.code.te\nx)\n(/usr/share/texlive/texmf-dist/tex/generic/pgf/basiclayer/pgfcoretransparency.c\node.tex)\n(/usr/share/texlive/texmf-dist/tex/generic/pgf/basiclayer/pgfcorepatterns.code.\ntex)\n(/usr/share/texlive/texmf-dist/tex/generic/pgf/basiclayer/pgfcorerdf.code.tex))\n)\n(/usr/share/texlive/texmf-dist/tex/generic/pgf/modules/pgfmoduleshapes.code.tex\n) (/usr/share/texlive/texmf-dist/tex/generic/pgf/modules/pgfmoduleplot.code.tex\n)\n(/usr/share/texlive/texmf-dist/tex/latex/pgf/compatibility/pgfcomp-version-0-65\n.sty)\n(/usr/share/texlive/texmf-dist/tex/latex/pgf/compatibility/pgfcomp-version-1-18\n.sty)) (/usr/share/texlive/texmf-dist/tex/latex/l3backend/l3backend-pdfmode.def\n)\nNo file figure.aux.\n(/usr/share/texlive/texmf-dist/tex/latex/hyperref/nameref.sty\n(/usr/share/texlive/texmf-dist/tex/latex/refcount/refcount.sty)\n(/usr/share/texlive/texmf-dist/tex/generic/gettitlestring/gettitlestring.sty))\n*geometry* driver: auto-detecting\n*geometry* detected driver: pdftex\nABD: EveryShipout initializing macros\n(/usr/share/texlive/texmf-dist/tex/context/base/mkii/supp-pdf.mkii\n[Loading MPS to PDF converter (version 2006.09.02).]\n) (/usr/share/texlive/texmf-dist/tex/latex/epstopdf-pkg/epstopdf-base.sty\n(/usr/share/texlive/texmf-dist/tex/latex/latexconfig/epstopdf-sys.cfg))\n(./figure.pgf\nRunaway definition?\n->\n! TeX capacity exceeded, sorry [main memory size=5000000].\n\\pgf@sys@bp ...rrentprotocol {\\the \\pgfutil@toks@ \n                                                  }}\nl.151558 \\pgfusepath{stroke,fill}\n                                 %\n!  ==> Fatal error occurred, no output PDF file produced!\nTranscript written on figure.log.\n\nand the following error:\n"
     ]
    }
   ]
  },
  {
   "source": [
    "# mean_xfx_probs = pd.DataFrame(xfx_probs.var(0), columns=stan_response.columns)\n",
    "# mean_stan_probs = pd.DataFrame(stan_probs.var(0), columns=stan_response.columns)\n",
    "# mean_xfx_probs['algo'] = 'Gibbs'\n",
    "# mean_stan_probs['algo'] = 'Stan/ADVI'\n",
    "# df = pd.concat([mean_xfx_probs, mean_stan_probs]).melt(id_vars=['algo'], var_name='party')\n",
    "\n",
    "# g = sns.displot(data=df, x='value', hue='algo', col='algo', row='party', kind='kde', legend=False, hue_order=['Gibbs', 'Stan/ADVI'], col_order=['Gibbs', 'Stan/ADVI'], facet_kws={'sharex': True, 'sharey': True, 'margin_titles': True}, height=2, aspect=2)"
   ],
   "cell_type": "code",
   "metadata": {},
   "execution_count": 17,
   "outputs": []
  },
  {
   "source": [
    "# dump\n",
    "\n",
    "predictions_long.to_csv('paper/output/election_predictions.csv', index=False)"
   ],
   "cell_type": "code",
   "metadata": {},
   "execution_count": 30,
   "outputs": []
  },
  {
   "cell_type": "code",
   "execution_count": 5,
   "metadata": {},
   "outputs": [],
   "source": [
    "# configure for export\n",
    "\n",
    "import matplotlib\n",
    "matplotlib.use('pgf')\n",
    "matplotlib.rcParams.update({\n",
    "    'pgf.texsystem': 'xelatex',\n",
    "    'font.family': 'serif',\n",
    "    'text.usetex': False,\n",
    "    'pgf.rcfonts': False,\n",
    "    'axes.labelsize': 10,\n",
    "    'axes.titlesize': 10,\n",
    "    'font.size': 10\n",
    "})\n",
    "predictions_long = pd.read_csv('paper/output/election_predictions.csv')"
   ]
  },
  {
   "cell_type": "code",
   "execution_count": 6,
   "metadata": {},
   "outputs": [],
   "source": [
    "# item 3\n",
    "with sns.axes_style({'axes.facecolor': sns.color_palette('flare', as_cmap=True)(1 / 40), 'axes.grid': False}):\n",
    "    df = predictions_long.pivot(index=['iter', 'algo'], columns='party').value.reset_index().reset_index(drop=True)\n",
    "    g = sns.displot(data=df, x='conservatives', y='social_democrats', col='algo', kind='kde', aspect=1, height=2.5, legend=False, fill=True, thresh=0, levels=20, cmap='flare', linewidth=0, bw_adjust=1.5, row_order=['cGibbs', 'Stan/ADVI'], col_order=['Gibbs', 'Stan/ADVI'], facet_kws={'sharex': True, 'sharey': True, 'margin_titles': True})\n",
    "    g.set(xlabel='Conservative vote')\n",
    "    g.axes[0, 0].set_ylabel('Labour vote')\n",
    "    g.set_titles(col_template='{col_name}')\n",
    "    plt.savefig('paper/plots/elections_predictive.pdf', bbox_inches='tight')"
   ]
  },
  {
   "cell_type": "code",
   "execution_count": 3,
   "metadata": {},
   "outputs": [
    {
     "output_type": "execute_result",
     "data": {
      "text/plain": [
       "['/home/timsf/Documents/research/hierarch/xfx_remote',\n",
       " '/home/timsf/Documents/research/hierarch/xfx_remote/paper',\n",
       " '/home/timsf/.vscode/extensions/ms-toolsai.jupyter-2021.3.684299474/pythonFiles',\n",
       " '/home/timsf/.vscode/extensions/ms-toolsai.jupyter-2021.3.684299474/pythonFiles/lib/python',\n",
       " '/usr/lib/python38.zip',\n",
       " '/usr/lib/python3.8',\n",
       " '/usr/lib/python3.8/lib-dynload',\n",
       " '',\n",
       " '/home/timsf/.virtualenvs/xfx_remote-OqQ78Mkr/lib/python3.8/site-packages',\n",
       " '/home/timsf/.virtualenvs/xfx_remote-OqQ78Mkr/lib/python3.8/site-packages/IPython/extensions',\n",
       " '/home/timsf/.ipython']"
      ]
     },
     "metadata": {},
     "execution_count": 3
    }
   ],
   "source": [
    "sys.path"
   ]
  }
 ]
}