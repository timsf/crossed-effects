{
 "cells": [
  {
   "cell_type": "code",
   "execution_count": 1,
   "metadata": {
    "pycharm": {
     "name": "#%%\n"
    }
   },
   "outputs": [],
   "source": [
    "# dependencies\n",
    "\n",
    "import numpy as np\n",
    "import pandas as pd\n",
    "import matplotlib.pyplot as plt\n",
    "import seaborn as sns\n",
    "\n",
    "from scipy.special import expit\n",
    "from xfx.glm.gaussian import sample_posterior as sample_gaussian\n",
    "from xfx.glm.binomial import sample_posterior as sample_binomial\n",
    "from tests.test_glm import sample_mar_fixture\n",
    "from xfx.misc import plot\n",
    "\n",
    "sns.set()"
   ]
  },
  {
   "cell_type": "code",
   "execution_count": 3,
   "metadata": {},
   "outputs": [],
   "source": [
    "# spaghetti\n",
    "\n",
    "def sample_iat(n_levels_, n_samples, n_warmup, n_acf_lags, ome):\n",
    "\n",
    "    run = ome.__getstate__()['state']['state']\n",
    "    gauss_fixture = sample_mar_fixture(np.repeat(n_levels_, 2), 1, 1e100, 1e-100, 0.9, ome)[0]\n",
    "    binom_fixture = (gauss_fixture[0], np.float64(expit(gauss_fixture[1]) < ome.uniform(size=len(gauss_fixture[1]))))\n",
    "\n",
    "    gauss_collapsed_sampler, gauss_vanilla_sampler = (\n",
    "        sample_gaussian(np.repeat(n_levels_, 2), *gauss_fixture, np.repeat(1, 2), np.ones(2), np.inf, 1, b, ome) for b in (True, False))\n",
    "    binom_collapsed_sampler, binom_vanilla_sampler = (\n",
    "        sample_binomial(np.repeat(n_levels_, 2), *binom_fixture, np.repeat(1, 2), np.ones(2), b, ome)  for b in (True, False))\n",
    "    gauss_collapsed_samples, gauss_vanilla_samples, binom_collapsed_samples, binom_vanilla_samples = (\n",
    "        [next(sampler)[:3] for _ in range(n_samples + n_warmup)][n_warmup:] for sampler in (\n",
    "            gauss_collapsed_sampler, gauss_vanilla_sampler, binom_collapsed_sampler, binom_vanilla_sampler))\n",
    "\n",
    "    gauss_collapsed_df, gauss_vanilla_df, binom_collapsed_df, binom_vanilla_df = (\n",
    "        package_samples(samples, mod, algo, len(gauss_fixture[1]), run) for mod, algo, samples in (\n",
    "            ('linear', 'collapsed', gauss_collapsed_samples), ('linear', 'vanilla', gauss_vanilla_samples), ('logistic', 'collapsed', binom_collapsed_samples), ('logistic', 'vanilla', binom_vanilla_samples)))\n",
    "    df = pd.concat([gauss_collapsed_df, gauss_vanilla_df, binom_collapsed_df, binom_vanilla_df])\n",
    "\n",
    "    return est_iat(df, n_acf_lags)\n",
    "\n",
    "def package_samples(samples, model, algo, n_obs, run):\n",
    "\n",
    "    alp0, alp, tau = zip(*samples)\n",
    "    mean = np.mean(alp, 2).T\n",
    "    prior_prec = np.array(tau).T\n",
    "    dfs = [pd.DataFrame({'iter': np.arange(len(samples)), 'value': np.array(alp0), 'factor': [0] * len(samples), 'stat': ['mean'] * len(samples)})]\n",
    "    for i in range(mean.shape[0]):\n",
    "        df_mean_ = pd.DataFrame({'iter': np.arange(len(samples)), 'value': mean[i], 'factor': [i + 1] * len(samples), 'stat': ['mean'] * len(samples)})\n",
    "        df_prior_prec_ = pd.DataFrame({'iter': np.arange(len(samples)), 'value': prior_prec[i], 'factor': [i + 1] * len(samples), 'stat': ['prior_prec'] * len(samples)})\n",
    "        dfs.extend([df_mean_, df_prior_prec_])\n",
    "    df = pd.concat(dfs)\n",
    "    df['model'] = model\n",
    "    df['algo'] = algo\n",
    "    df['n_obs'] = n_obs\n",
    "    df['run'] = run\n",
    "    return df.set_index(['model', 'algo', 'n_obs', 'run', 'factor', 'stat', 'iter']).unstack('iter').value\n",
    "\n",
    "def est_acf(samples, n_lags):\n",
    "\n",
    "    acf = samples.apply(lambda x: plot.est_acf(x.values, n_lags), 1, False, 'expand')\n",
    "    acf.columns = acf.columns.rename('lag')\n",
    "    return acf\n",
    "\n",
    "def est_iat(samples, n_acf_lags):\n",
    "    \n",
    "    acf = est_acf(samples, n_acf_lags)\n",
    "    iat = acf.apply(lambda x: plot.est_int_autocor(x.values), 1, False, 'expand').rename('iat')\n",
    "    return iat"
   ]
  },
  {
   "cell_type": "code",
   "execution_count": 3,
   "metadata": {
    "pycharm": {
     "name": "#%%\n"
    }
   },
   "outputs": [],
   "source": [
    "# config\n",
    "\n",
    "seed = 0\n",
    "n_runs = 10\n",
    "n_levels = 2 ** np.arange(5, 11)\n",
    "n_samples = 10000\n",
    "n_warmup = 10\n",
    "n_acf_lags = 128\n",
    "\n",
    "ome = np.random.default_rng(seed)"
   ]
  },
  {
   "cell_type": "code",
   "execution_count": 28,
   "metadata": {
    "pycharm": {
     "name": "#%%\n"
    }
   },
   "outputs": [],
   "source": [
    "# run\n",
    "\n",
    "df = pd.concat([pd.concat([sample_iat(n_levels_, n_samples, n_warmup, n_acf_lags, ome) for n_levels_ in n_levels]) for _ in range(n_runs)])"
   ]
  },
  {
   "cell_type": "code",
   "execution_count": 9,
   "metadata": {},
   "outputs": [],
   "source": [
    "# dump\n",
    "\n",
    "df.to_csv('paper/output/collapsed_vs_vanilla_ess.csv')"
   ]
  },
  {
   "cell_type": "code",
   "execution_count": 2,
   "metadata": {},
   "outputs": [],
   "source": [
    "# configure for export\n",
    "\n",
    "import matplotlib\n",
    "matplotlib.use('pgf')\n",
    "matplotlib.rcParams.update({\n",
    "    'pgf.texsystem': 'xelatex',\n",
    "    'font.family': 'serif',\n",
    "    'text.usetex': False,\n",
    "    'pgf.rcfonts': False,\n",
    "    'axes.labelsize': 10,\n",
    "    'axes.titlesize': 10,\n",
    "    'font.size': 10\n",
    "})\n",
    "df = pd.read_csv('paper/output/collapsed_vs_vanilla_ess.csv')"
   ]
  },
  {
   "cell_type": "code",
   "execution_count": 4,
   "metadata": {},
   "outputs": [],
   "source": [
    "# item 1\n",
    "\n",
    "df = df.groupby(['model', 'algo', 'n_obs', 'factor', 'stat']).iat.mean().reset_index()\n",
    "df['iat'] *= 2\n",
    "df['group'] = df.factor.astype(str) + '-' + df.stat\n",
    "g = sns.relplot(data=df, x='n_obs', y='iat', hue='algo', row='model', col='factor', style='stat', kind='line', aspect=4/3, height=1.25, markers=False, legend=False, lw=1, facet_kws={'margin_titles':True})\n",
    "xticks, yticks = 10 ** np.arange(2, 6), 10 ** np.arange(3)\n",
    "g.set_titles(row_template='{row_name}', col_template='factor {col_name}')\n",
    "g.set(xscale='log', yscale='log')\n",
    "g.set(xticks=xticks, yticks=yticks)\n",
    "g.axes[0,0].set(ylabel='IAT')\n",
    "g.axes[1,0].set(xlabel=None, ylabel='IAT')\n",
    "g.axes[1,1].set(xlabel='number of observations')\n",
    "g.axes[1,2].set(xlabel=None)\n",
    "g.fig.subplots_adjust(wspace=.1, hspace=.16)\n",
    "\n",
    "plt.savefig('paper/plots/collapsed_vs_vanilla_ess.pdf', bbox_inches='tight')"
   ]
  }
 ],
 "metadata": {
  "kernelspec": {
   "display_name": "Python 3.8.2 64-bit ('xfx_remote-OqQ78Mkr': venv)",
   "language": "python",
   "name": "python38264bitxfxremoteoqq78mkrvenv94be803e64b34517b1c1aaae55445b99"
  },
  "language_info": {
   "codemirror_mode": {
    "name": "ipython",
    "version": 3
   },
   "file_extension": ".py",
   "mimetype": "text/x-python",
   "name": "python",
   "nbconvert_exporter": "python",
   "pygments_lexer": "ipython3",
   "version": "3.8.5"
  }
 },
 "nbformat": 4,
 "nbformat_minor": 1
}