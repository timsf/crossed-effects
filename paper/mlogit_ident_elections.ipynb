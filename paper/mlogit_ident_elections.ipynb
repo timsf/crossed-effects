{
 "cells": [
  {
   "cell_type": "code",
   "execution_count": null,
   "metadata": {},
   "outputs": [],
   "source": [
    "# dependencies\n",
    "\n",
    "import datetime\n",
    "\n",
    "import numpy as np\n",
    "import pandas as pd\n",
    "import matplotlib.pyplot as plt\n",
    "import seaborn as sns\n",
    "\n",
    "import xfx.mvglm.cmult\n",
    "import xfx.mvglm.fmult\n",
    "import xfx.custom.symmetric_multinomial\n",
    "import xfx.misc.plot"
   ]
  },
  {
   "cell_type": "code",
   "execution_count": null,
   "metadata": {},
   "outputs": [],
   "source": [
    "# helper functions\n",
    "\n",
    "def package_samples(samples, factor_names, response_names, meta):\n",
    "\n",
    "    rfx_samples, prec_samples = zip(*samples)\n",
    "    rfx_samples = [np.array(samples_) for samples_ in zip(*rfx_samples)]\n",
    "    prec_samples = np.trace(prec_samples, axis1=2, axis2=3).T\n",
    "    return package_rfx_samples(rfx_samples, ['_const'] + factor_names, response_names, meta), package_prec_samples(prec_samples, factor_names, meta)\n",
    "\n",
    "def package_rfx_samples(rfx_samples, factor_names, response_names, meta):\n",
    "\n",
    "    dfs = []\n",
    "    for i, (samples_, factor_name) in enumerate(zip(rfx_samples, factor_names)):\n",
    "        for j in range(samples_.shape[1]):\n",
    "            df_ = pd.DataFrame(samples_[:, j].T, index=response_names)\n",
    "            df_.index = df_.index.rename('response')\n",
    "            df_.columns = df_.columns.rename('iter')\n",
    "            for k, v in meta.items():\n",
    "                df_[k] = v\n",
    "            df_['factor'] = factor_name\n",
    "            df_['level'] = j\n",
    "            dfs.append(df_)\n",
    "    df = pd.concat(dfs).reset_index().set_index(['algo', 'factor', 'level', 'response'])\n",
    "    return df\n",
    "\n",
    "def package_prec_samples(prec_samples, factor_names, meta):\n",
    "\n",
    "    df = pd.DataFrame(prec_samples, index=factor_names)\n",
    "    df.index = df.index.rename('factor')\n",
    "    df.columns = df.columns.rename('iter')\n",
    "    for k, v in meta.items():\n",
    "        df[k] = v\n",
    "    df = df.reset_index().set_index(['algo', 'factor'])\n",
    "    return df\n",
    "\n",
    "def est_acf(samples, n_lags):\n",
    "\n",
    "    acf = samples.apply(lambda x: xfx.misc.plot.est_acf(x.values, n_lags), 1, False, 'expand')\n",
    "    acf.columns = acf.columns.rename('lag')\n",
    "    return acf\n",
    "\n",
    "def est_ess(acfs, titer):\n",
    "    \n",
    "    df = pd.DataFrame(index=acfs.index)\n",
    "    df['iat[iter]'] = acfs.apply(lambda x: xfx.misc.plot.est_int_autocor(x.values), 1, False, 'expand').rename('iat')\n",
    "    df['iat[sec]'] = df['iat[iter]'] * titer\n",
    "    df['rate[iter]'] = 1 / (2 * df['iat[iter]'])\n",
    "    df['rate[sec]'] = df['rate[iter]'] / titer\n",
    "    return df"
   ]
  },
  {
   "cell_type": "code",
   "execution_count": null,
   "metadata": {
    "pycharm": {
     "name": "#%%\n"
    }
   },
   "outputs": [],
   "source": [
    "# config\n",
    "\n",
    "factor_names = ['province_id', 'activity', 'age', 'education', 'municipality_size', 'voting_recall', 'gender']\n",
    "response_names = ['conservatives', 'social_democrats']\n",
    "exclude = ['abstention', 'invalid']\n",
    "seed = 0\n",
    "n_samples = 10000"
   ]
  },
  {
   "cell_type": "code",
   "execution_count": null,
   "metadata": {},
   "outputs": [],
   "source": [
    "# construct inputs\n",
    "\n",
    "cis = pd.read_csv('paper/data/cis.csv')\n",
    "cis = cis.loc[(cis.study_id == '2019-11-10') & (~cis.voting_intention.isin(exclude)) & (~cis.voting_intention.isna())]\n",
    "cis['response'] = np.where(cis.voting_intention.isin(response_names), cis.voting_intention, '_others')\n",
    "cis['voting_recall'] = np.where(cis.voting_recall.isin(response_names), cis.voting_recall, '_others')\n",
    "cis = cis[factor_names + ['response']].dropna()\n",
    "cis = cis.groupby(factor_names + ['response']).agg(lambda x: len(x)).unstack('response').fillna(0)\n",
    "codes = cis.index.to_frame().apply(lambda x: x.astype('category').cat.codes).astype(np.int64)\n",
    "\n",
    "indices = codes.values\n",
    "response = cis.values\n",
    "trials = cis.sum(1).values\n",
    "n_levels = np.max(indices, 0) + 1\n",
    "rng = np.random.default_rng(seed)\n",
    "\n",
    "inputs = {'y': response, 'j': n_levels, 'i': indices}"
   ]
  },
  {
   "cell_type": "code",
   "execution_count": null,
   "metadata": {},
   "outputs": [],
   "source": [
    "# sample constrained\n",
    "\n",
    "constlc_sampler = xfx.mvglm.cmult.sample_posterior(**inputs, ome=rng)\n",
    "next(constlc_sampler)\n",
    "t0 = datetime.datetime.now()\n",
    "constlc_samples = [next(constlc_sampler) for _ in range(2 * n_samples)][n_samples:]\n",
    "t1 = datetime.datetime.now()\n",
    "constlc_titer = (t1 - t0).total_seconds() / n_samples"
   ]
  },
  {
   "cell_type": "code",
   "execution_count": null,
   "metadata": {
    "pycharm": {
     "name": "#%%\n"
    }
   },
   "outputs": [],
   "source": [
    "# sample constrained\n",
    "\n",
    "freelc_sampler = xfx.mvglm.fmult.sample_posterior(**inputs, ome=rng)\n",
    "next(freelc_sampler)\n",
    "t0 = datetime.datetime.now()\n",
    "freelc_samples = [next(freelc_sampler) for _ in range(2 * n_samples)][n_samples:]\n",
    "t1 = datetime.datetime.now()\n",
    "freelc_titer = (t1 - t0).total_seconds() / n_samples"
   ]
  },
  {
   "cell_type": "code",
   "execution_count": null,
   "metadata": {},
   "outputs": [],
   "source": [
    "# sample unconstrained\n",
    "\n",
    "freeplc_sampler = xfx.custom.symmetric_multinomial.sample_posterior(**inputs, ome=rng)\n",
    "next(freeplc_sampler)\n",
    "t0 = datetime.datetime.now()\n",
    "freeplc_samples = [next(freeplc_sampler) for _ in range(2 * n_samples)][n_samples:]\n",
    "t1 = datetime.datetime.now()\n",
    "freeplc_titer = (t1 - t0).total_seconds() / n_samples"
   ]
  },
  {
   "cell_type": "code",
   "execution_count": null,
   "metadata": {},
   "outputs": [],
   "source": [
    "# construct summaries\n",
    "\n",
    "freelc_rfx_samples, freelc_prec_samples = package_samples(freelc_samples, factor_names, response_names + ['others'], {'algo': 'free/LC-MwG'})\n",
    "constlc_rfx_samples, constlc_prec_samples = package_samples(constlc_samples, factor_names, response_names, {'algo': 'const/LC-MwG'})\n",
    "freeplc_rfx_samples, freeplc_prec_samples = package_samples(freeplc_samples, factor_names, response_names + ['others'], {'algo': 'free/PLC-MwG'})\n",
    "\n",
    "rfx_samples = pd.concat([freelc_rfx_samples, constlc_rfx_samples, freeplc_rfx_samples])\n",
    "prec_samples = pd.concat([freelc_prec_samples, constlc_prec_samples, freeplc_prec_samples])\n",
    "\n",
    "rfx_acf = est_acf(rfx_samples, 256)\n",
    "prec_acf = est_acf(prec_samples, 256)\n",
    "\n",
    "rfx_ess = est_ess(rfx_acf, 1)\n",
    "prec_ess = est_ess(prec_acf, 1)\n",
    "\n",
    "rfx_ess['iat[sec]'] = rfx_ess['iat[iter]'] * np.select([rfx_ess.reset_index().algo == 'free/LC-MwG', rfx_ess.reset_index().algo == 'const/LC-MwG'], [freelc_titer, constlc_titer], freeplc_titer)\n",
    "rfx_ess['rate[sec]'] = rfx_ess['rate[iter]'] / np.select([rfx_ess.reset_index().algo == 'free/LC-MwG', rfx_ess.reset_index().algo == 'const/LC-MwG'], [freelc_titer, constlc_titer], freeplc_titer)\n",
    "prec_ess['iat[sec]'] = prec_ess['iat[iter]'] * np.select([prec_ess.reset_index().algo == 'free/LC-MwG', prec_ess.reset_index().algo == 'const/LC-MwG'], [freelc_titer, constlc_titer], freeplc_titer)\n",
    "prec_ess['rate[sec]'] = prec_ess['rate[iter]'] / np.select([prec_ess.reset_index().algo == 'free/LC-MwG', prec_ess.reset_index().algo == 'const/LC-MwG'], [freelc_titer, constlc_titer], freeplc_titer)"
   ]
  },
  {
   "cell_type": "code",
   "execution_count": null,
   "metadata": {},
   "outputs": [],
   "source": [
    "acf = pd.concat([rfx_acf, prec_acf]).reset_index().melt(id_vars=['algo', 'factor', 'level', 'response'], var_name='lag')\n",
    "acf['level'] = acf.level.fillna(0)\n",
    "acf['factor'] = acf.factor.astype('category').cat.codes\n",
    "acf['group'] = (acf.factor.astype('str') + '-' + acf.level.astype('str')).astype('category').cat.codes\n",
    "acf['time'] = acf.lag.astype(int) * np.select([acf.algo == 'free/LC-MwG', acf.algo == 'const/LC-MwG'], [freelc_titer, constlc_titer], freeplc_titer)\n",
    "ess = pd.concat([rfx_ess, prec_ess]).reset_index()\n",
    "ess['level'] = ess.level.fillna(0)\n",
    "\n",
    "f, axes = plt.subplots(1, 2, figsize=(2 * (8/5 + 4/3), 2), gridspec_kw={'width_ratios': [8/5, 4/3]})\n",
    "g = sns.lineplot(data=acf, x='time', y='value', hue='algo', style='group', hue_order=('const/LC-MwG', 'free/LC-MwG', 'free/PLC-MwG'), dashes=False, markers=False, legend=False, alpha=1/3, lw=1/3, ax=axes[0])\n",
    "g.set(xlabel='wall time [sec]', ylabel='ACF', xlim=(-.25, 4.25))\n",
    "g = sns.boxplot(data=ess, y='algo', x='rate[sec]', order=('const/LC-MwG', 'free/LC-MwG', 'free/PLC-MwG'), linewidth=1, fliersize=1, sym='o', ax=axes[1])\n",
    "g.set(ylabel='$\\\\quad$', xlabel='ESS/sec', xscale='log')"
   ]
  }
 ],
 "metadata": {
  "kernelspec": {
   "display_name": "xfx-v8IVivw0-py3.10",
   "language": "python",
   "name": "python3"
  },
  "language_info": {
   "codemirror_mode": {
    "name": "ipython",
    "version": 3
   },
   "file_extension": ".py",
   "mimetype": "text/x-python",
   "name": "python",
   "nbconvert_exporter": "python",
   "pygments_lexer": "ipython3",
   "version": "3.10.6 (main, Nov 14 2022, 16:10:14) [GCC 11.3.0]"
  },
  "metadata": {
   "interpreter": {
    "hash": "48270a795beff4afac506b9f5a1bba57b2b1bd6227e7fa82f4fe31bf58cdd14a"
   }
  },
  "vscode": {
   "interpreter": {
    "hash": "bfa90eb105e02586f49d13927d95a3f8b2865db9e646a82fa6bd5f993c25bf8e"
   }
  }
 },
 "nbformat": 4,
 "nbformat_minor": 1
}
