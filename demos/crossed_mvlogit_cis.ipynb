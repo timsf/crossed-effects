{
 "metadata": {
  "language_info": {
   "codemirror_mode": {
    "name": "ipython",
    "version": 3
   },
   "file_extension": ".py",
   "mimetype": "text/x-python",
   "name": "python",
   "nbconvert_exporter": "python",
   "pygments_lexer": "ipython3",
   "version": "3.8.5"
  },
  "orig_nbformat": 2,
  "kernelspec": {
   "name": "python385jvsc74a57bd068b6dfe6601bc03bc6f6b0772d9c79cbc85fb8c353d37e98d43123e0f9137fc9",
   "display_name": "Python 3.8.5 64-bit ('ctbayes_remote-9hyQwGRs': virtualenvwrapper)"
  },
  "metadata": {
   "interpreter": {
    "hash": "68b6dfe6601bc03bc6f6b0772d9c79cbc85fb8c353d37e98d43123e0f9137fc9"
   }
  }
 },
 "nbformat": 4,
 "nbformat_minor": 2,
 "cells": [
  {
   "cell_type": "code",
   "execution_count": null,
   "source": [
    "# if need be, manually add the local project root to PYTHONPATH and move working directories\n",
    "\n",
    "import os\n",
    "import sys\n",
    "\n",
    "project = '/' # change to local project root\n",
    "sys.path.append(project)\n",
    "os.chdir(project)"
   ],
   "outputs": [],
   "metadata": {}
  },
  {
   "cell_type": "code",
   "execution_count": null,
   "source": [
    "# dependencies\n",
    "\n",
    "import numpy as np\n",
    "import pandas as pd\n",
    "\n",
    "import xfx.mvglm.multinomial\n",
    "import xfx.misc.plot"
   ],
   "outputs": [],
   "metadata": {}
  },
  {
   "cell_type": "code",
   "execution_count": null,
   "source": [
    "# helper functions\n",
    "\n",
    "def package_samples(samples, factor_names, response_names):\n",
    "\n",
    "    rfx_samples, prec_samples = zip(*samples)\n",
    "    rfx_samples = [np.array(samples_) for samples_ in zip(*rfx_samples)]\n",
    "    prec_samples = np.trace(prec_samples, axis1=2, axis2=3)\n",
    "    return package_rfx_samples(rfx_samples, ['_const'] + factor_names, response_names), package_prec_samples(prec_samples, factor_names)\n",
    "\n",
    "def package_rfx_samples(rfx_samples, factor_names, response_names):\n",
    "\n",
    "    dfs = []\n",
    "    for i, (samples_, factor_name) in enumerate(zip(rfx_samples, factor_names)):\n",
    "        for j in range(samples_.shape[1]):\n",
    "            df_ = pd.DataFrame(samples_[:, j].T, index=response_names)\n",
    "            df_.index = df_.index.rename('response')\n",
    "            df_.columns = df_.columns.rename('iter')\n",
    "            df_['factor'] = factor_name\n",
    "            df_['level'] = j\n",
    "            dfs.append(df_)\n",
    "    df = pd.concat(dfs).reset_index().set_index(['factor', 'level', 'response'])\n",
    "    return df\n",
    "\n",
    "def package_prec_samples(prec_samples, factor_names):\n",
    "\n",
    "    df = pd.DataFrame(prec_samples.T, index=factor_names)\n",
    "    df.index = df.index.rename('factor')\n",
    "    df.columns = df.columns.rename('iter')\n",
    "    return df"
   ],
   "outputs": [],
   "metadata": {}
  },
  {
   "cell_type": "code",
   "execution_count": null,
   "source": [
    "# select predictors and responses\n",
    "\n",
    "factor_names = ['province_id', 'activity', 'age', 'education', 'municipality_size', 'voting_recall', 'gender']\n",
    "response_names = ['conservatives', 'social_democrats']\n",
    "exclude = ['abstention', 'invalid']"
   ],
   "outputs": [],
   "metadata": {}
  },
  {
   "cell_type": "code",
   "execution_count": null,
   "source": [
    "# configure algorithm (hyperprior on the random effect prior precision is Wishart(prior_pseudo_tau, prior_guess_tau / prior_pseudo_tau))\n",
    "\n",
    "n_samples = 1000\n",
    "n_warmup = 1000\n",
    "prior_pseudo_tau = len(response_names) * np.ones(len(factor_names))\n",
    "prior_guess_tau = len(factor_names) * [np.identity(len(response_names))]\n",
    "seed = 0"
   ],
   "outputs": [],
   "metadata": {}
  },
  {
   "cell_type": "code",
   "execution_count": null,
   "source": [
    "# create inputs\n",
    "\n",
    "cis = pd.read_csv('demos/data/cis.csv')\n",
    "cis = cis.loc[(cis.study_id == '2019-11-10') & (~cis.voting_intention.isin(exclude)) & (~cis.voting_intention.isna())]\n",
    "cis['response'] = np.where(cis.voting_intention.isin(response_names), cis.voting_intention, '_others')\n",
    "cis['voting_recall'] = np.where(cis.voting_recall.isin(response_names), cis.voting_recall, '_others')\n",
    "cis = cis[factor_names + ['response']].dropna()\n",
    "codes = cis.apply(lambda x: x.astype('category').cat.codes)\n",
    "n_true = pd.get_dummies(codes.response)\n",
    "indices = codes.drop('response', 1)\n",
    "n_levels = np.max(indices, 0).astype(np.int64) + 1\n",
    "rng = np.random.default_rng(seed)"
   ],
   "outputs": [],
   "metadata": {}
  },
  {
   "cell_type": "code",
   "execution_count": null,
   "source": [
    "# sample\n",
    "\n",
    "sampler = xfx.mvglm.multinomial.sample_posterior(n_true.values, n_levels, indices.values, prior_n_tau=prior_pseudo_tau, prior_est_tau=prior_guess_tau, ome=rng)\n",
    "samples = [next(sampler) for _ in range(n_samples + n_warmup)][n_warmup:]"
   ],
   "outputs": [],
   "metadata": {}
  },
  {
   "cell_type": "code",
   "execution_count": null,
   "source": [
    "# reformat samples for plotting\n",
    "\n",
    "rfx_samples, prec_samples = package_samples(samples, factor_names, response_names)"
   ],
   "outputs": [],
   "metadata": {}
  },
  {
   "cell_type": "code",
   "execution_count": null,
   "source": [
    "# random effects samples\n",
    "\n",
    "rfx_samples.iloc[:5, :5]"
   ],
   "outputs": [],
   "metadata": {}
  },
  {
   "cell_type": "code",
   "execution_count": null,
   "source": [
    "# prior precision trace samples\n",
    "\n",
    "prec_samples.iloc[:5, :5]"
   ],
   "outputs": [],
   "metadata": {}
  },
  {
   "cell_type": "code",
   "execution_count": null,
   "source": [
    "# plot traces for 'voting_recall' random effects, grid by level, color by level\n",
    "\n",
    "xfx.misc.plot.plot_traces(rfx_samples.loc['age'], 'iter', 'level', 'response')"
   ],
   "outputs": [],
   "metadata": {}
  },
  {
   "cell_type": "code",
   "execution_count": null,
   "source": [
    "# plot marginals for 'age' random effects, grid by level, color by response\n",
    "\n",
    "xfx.misc.plot.plot_marginals(rfx_samples.loc['education'], 'level', 'response')"
   ],
   "outputs": [],
   "metadata": {}
  },
  {
   "cell_type": "code",
   "execution_count": null,
   "source": [
    "# plot ACFs for prior precisions, grid by level, color by response\n",
    "\n",
    "xfx.misc.plot.plot_acf(rfx_samples.loc['voting_recall'], 'level', 'response')"
   ],
   "outputs": [],
   "metadata": {}
  }
 ]
}