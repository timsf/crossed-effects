{
 "cells": [
  {
   "cell_type": "code",
   "execution_count": null,
   "source": [
    "# if need be, manually add the local project root to PYTHONPATH and move working directories\n",
    "\n",
    "import os\n",
    "import sys\n",
    "\n",
    "project = '/' # change to local project root\n",
    "sys.path.append(project)\n",
    "os.chdir(project)"
   ],
   "outputs": [],
   "metadata": {}
  },
  {
   "cell_type": "code",
   "execution_count": null,
   "source": [
    "# dependencies\n",
    "\n",
    "import numpy as np\n",
    "import pandas as pd\n",
    "\n",
    "import xfx.lm.gibbs\n",
    "import xfx.misc.plot"
   ],
   "outputs": [],
   "metadata": {
    "pycharm": {
     "name": "#%%\n"
    }
   }
  },
  {
   "cell_type": "code",
   "execution_count": null,
   "source": [
    "# helper functions\n",
    "\n",
    "def package_samples(samples, factor_names):\n",
    "\n",
    "    rfx_samples, prec_samples, disp_samples = zip(*samples)\n",
    "    rfx_samples = [np.array(samples_) for samples_ in zip(*rfx_samples)]\n",
    "    prec_samples = np.array(prec_samples)\n",
    "    disp_samples = np.array(disp_samples)\n",
    "    return package_rfx_samples(rfx_samples, ['_const'] + factor_names), package_prec_samples(prec_samples, factor_names), pd.DataFrame(disp_samples).T.rename_axis(columns='iter')\n",
    "\n",
    "def package_rfx_samples(rfx_samples, factor_names):\n",
    "\n",
    "    dfs = []\n",
    "    for samples_, factor_name in zip(rfx_samples, factor_names):\n",
    "        df_ = pd.DataFrame(samples_.T)\n",
    "        df_.index = df_.index.rename('level')\n",
    "        df_.columns = df_.columns.rename('iter')\n",
    "        df_['factor'] = factor_name\n",
    "        dfs.append(df_)\n",
    "    df = pd.concat(dfs).reset_index().set_index(['factor', 'level'])\n",
    "    return df\n",
    "\n",
    "def package_prec_samples(prec_samples, factor_names):\n",
    "\n",
    "    df = pd.DataFrame(prec_samples.T, index=factor_names)\n",
    "    df.index = df.index.rename('factor')\n",
    "    df.columns = df.columns.rename('iter')\n",
    "    return df"
   ],
   "outputs": [],
   "metadata": {}
  },
  {
   "cell_type": "code",
   "execution_count": null,
   "source": [
    "# select predictors\n",
    "\n",
    "factor_names = ['s', 'd', 'studage', 'lectage', 'service', 'dept']"
   ],
   "outputs": [],
   "metadata": {}
  },
  {
   "cell_type": "code",
   "execution_count": null,
   "source": [
    "# configure algorithm (hyperprior on the random effect prior precision is Wishart(prior_pseudo_tau, prior_guess_tau / prior_pseudo_tau))\n",
    "\n",
    "n_samples = 1000\n",
    "n_warmup = 100\n",
    "prior_pseudo_tau = np.ones(len(factor_names))\n",
    "prior_guess_tau = np.ones(len(factor_names))\n",
    "seed = 0"
   ],
   "outputs": [],
   "metadata": {}
  },
  {
   "cell_type": "code",
   "execution_count": null,
   "source": [
    "# create inputs\n",
    "\n",
    "insteval = pd.read_csv('demos/data/insteval.csv').loc[:, factor_names + ['y']]\n",
    "n_obs = np.ones(len(insteval.y))\n",
    "sum_obs = insteval.y\n",
    "sumsq_obs = insteval.y ** 2\n",
    "indices = insteval.reset_index().loc[:, factor_names].apply(lambda x: x.astype('category').cat.codes)\n",
    "n_levels = indices.max(0).values + 1\n",
    "rng = np.random.default_rng(seed)"
   ],
   "outputs": [],
   "metadata": {}
  },
  {
   "cell_type": "code",
   "execution_count": null,
   "source": [
    "# sample\n",
    "\n",
    "sampler = xfx.lm.gibbs.sample_posterior(sum_obs.values, sumsq_obs.values, n_obs, n_levels, indices.values, prior_pseudo_tau, prior_guess_tau, ome=rng)\n",
    "samples = [next(sampler) for _ in range(n_samples + n_warmup)][n_warmup:]"
   ],
   "outputs": [],
   "metadata": {
    "pycharm": {
     "name": "#%%\n"
    }
   }
  },
  {
   "cell_type": "code",
   "execution_count": null,
   "source": [
    "# reformat samples for plotting\n",
    "\n",
    "rfx_samples, prec_samples, disp_samples = package_samples(samples, factor_names)"
   ],
   "outputs": [],
   "metadata": {}
  },
  {
   "cell_type": "code",
   "execution_count": null,
   "source": [
    "# random effects samples\n",
    "\n",
    "rfx_samples.iloc[:5, :5]"
   ],
   "outputs": [],
   "metadata": {}
  },
  {
   "cell_type": "code",
   "execution_count": null,
   "source": [
    "# prior precision samples\n",
    "\n",
    "prec_samples.iloc[:5, :5]"
   ],
   "outputs": [],
   "metadata": {}
  },
  {
   "cell_type": "code",
   "execution_count": null,
   "source": [
    "# plot traces for 'studage' random effects, grid and color by level\n",
    "\n",
    "xfx.misc.plot.plot_traces(rfx_samples.loc['studage'], 'iter', 'level', 'level')"
   ],
   "outputs": [],
   "metadata": {}
  },
  {
   "cell_type": "code",
   "execution_count": null,
   "source": [
    "# plot marginals for 'lectage' random effects, grid and color by level\n",
    "\n",
    "xfx.misc.plot.plot_marginals(rfx_samples.loc['lectage'], 'level', 'level')"
   ],
   "outputs": [],
   "metadata": {}
  },
  {
   "cell_type": "code",
   "execution_count": null,
   "source": [
    "# plot ACFs for prior precisions, grid and color by level\n",
    "\n",
    "xfx.misc.plot.plot_acf(prec_samples, 'factor', 'factor')"
   ],
   "outputs": [],
   "metadata": {}
  }
 ],
 "metadata": {
  "kernelspec": {
   "name": "python385jvsc74a57bd048270a795beff4afac506b9f5a1bba57b2b1bd6227e7fa82f4fe31bf58cdd14a",
   "display_name": "Python 3.8.5 64-bit ('xfx_remote-OVPgIAIG': venv)"
  },
  "language_info": {
   "codemirror_mode": {
    "name": "ipython",
    "version": 3
   },
   "file_extension": ".py",
   "mimetype": "text/x-python",
   "name": "python",
   "nbconvert_exporter": "python",
   "pygments_lexer": "ipython3",
   "version": "3.8.5"
  },
  "metadata": {
   "interpreter": {
    "hash": "48270a795beff4afac506b9f5a1bba57b2b1bd6227e7fa82f4fe31bf58cdd14a"
   }
  }
 },
 "nbformat": 4,
 "nbformat_minor": 1
}