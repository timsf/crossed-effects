{
 "cells": [
  {
   "cell_type": "code",
   "execution_count": null,
   "metadata": {},
   "outputs": [],
   "source": [
    "# if need be, manually add the local project root to PYTHONPATH and move working directories\n",
    "\n",
    "import os\n",
    "import sys\n",
    "\n",
    "project = '/' # change to local project root\n",
    "sys.path.append(project)\n",
    "os.chdir(project)"
   ]
  },
  {
   "cell_type": "code",
   "execution_count": null,
   "metadata": {
    "pycharm": {
     "name": "#%%\n"
    }
   },
   "outputs": [],
   "source": [
    "# dependencies\n",
    "\n",
    "import numpy as np\n",
    "import pandas as pd\n",
    "\n",
    "import xfx.glm.binomial\n",
    "import xfx.misc.plot"
   ]
  },
  {
   "cell_type": "code",
   "execution_count": null,
   "metadata": {},
   "outputs": [],
   "source": [
    "# helper functions\n",
    "\n",
    "def package_samples(samples, factor_names):\n",
    "\n",
    "    rfx_samples, prec_samples = zip(*samples)\n",
    "    rfx_samples = [np.array(samples_) for samples_ in zip(*rfx_samples)]\n",
    "    prec_samples = np.array(prec_samples)\n",
    "    return package_rfx_samples(rfx_samples, ['_const'] + factor_names), package_prec_samples(prec_samples, factor_names)\n",
    "\n",
    "def package_rfx_samples(rfx_samples, factor_names):\n",
    "\n",
    "    dfs = []\n",
    "    for samples_, factor_name in zip(rfx_samples, factor_names):\n",
    "        df_ = pd.DataFrame(samples_.T)\n",
    "        df_.index = df_.index.rename('level')\n",
    "        df_.columns = df_.columns.rename('iter')\n",
    "        df_['factor'] = factor_name\n",
    "        dfs.append(df_)\n",
    "    df = pd.concat(dfs).reset_index().set_index(['factor', 'level'])\n",
    "    return df\n",
    "\n",
    "def package_prec_samples(prec_samples, factor_names):\n",
    "\n",
    "    df = pd.DataFrame(prec_samples.T, index=factor_names)\n",
    "    df.index = df.index.rename('factor')\n",
    "    df.columns = df.columns.rename('iter')\n",
    "    return df"
   ]
  },
  {
   "cell_type": "code",
   "execution_count": null,
   "metadata": {},
   "outputs": [],
   "source": [
    "# select predictors\n",
    "\n",
    "factor_names = ['stt', 'reg', 'eth', 'inc', 'age']"
   ]
  },
  {
   "cell_type": "code",
   "execution_count": null,
   "metadata": {},
   "outputs": [],
   "source": [
    "# configure algorithm (hyperprior on the random effect prior precision is Wishart(prior_pseudo_tau, prior_guess_tau / prior_pseudo_tau))\n",
    "\n",
    "n_samples = 1000\n",
    "n_warmup = 100\n",
    "prior_pseudo_tau = np.ones(len(factor_names))\n",
    "prior_guess_tau = np.ones(len(factor_names))\n",
    "seed = 0"
   ]
  },
  {
   "cell_type": "code",
   "execution_count": null,
   "metadata": {},
   "outputs": [],
   "source": [
    "# create inputs\n",
    "\n",
    "gg = pd.read_csv('demos/data/gg.csv')\n",
    "n_true = gg.success\n",
    "n_trials = gg.success + gg.failure\n",
    "indices = gg.loc[:, factor_names].apply(lambda x: x.astype('category').cat.codes)\n",
    "n_levels = indices.max(0).values + 1\n",
    "rng = np.random.default_rng(seed)"
   ]
  },
  {
   "cell_type": "code",
   "execution_count": null,
   "metadata": {
    "pycharm": {
     "name": "#%%\n"
    }
   },
   "outputs": [],
   "source": [
    "# sample\n",
    "\n",
    "sampler = xfx.glm.binomial.sample_posterior(n_true.values, n_trials.values, n_levels, indices.values, prior_pseudo_tau, prior_guess_tau, ome=rng)\n",
    "samples = [next(sampler) for _ in range(n_samples + n_warmup)][n_warmup:]"
   ]
  },
  {
   "cell_type": "code",
   "execution_count": null,
   "metadata": {},
   "outputs": [],
   "source": [
    "# reformat samples for plotting\n",
    "\n",
    "rfx_samples, prec_samples = package_samples(samples, factor_names)"
   ]
  },
  {
   "cell_type": "code",
   "execution_count": null,
   "metadata": {},
   "outputs": [],
   "source": [
    "# random effects samples\n",
    "\n",
    "rfx_samples.iloc[:5, :5]"
   ]
  },
  {
   "cell_type": "code",
   "execution_count": null,
   "metadata": {},
   "outputs": [],
   "source": [
    "# prior precision samples\n",
    "\n",
    "prec_samples.iloc[:5, :5]"
   ]
  },
  {
   "cell_type": "code",
   "execution_count": null,
   "metadata": {},
   "outputs": [],
   "source": [
    "# plot traces for 'eth' random effects, grid and color by level\n",
    "\n",
    "xfx.misc.plot.plot_traces(rfx_samples.loc['eth'], 'iter', 'level', 'level')"
   ]
  },
  {
   "cell_type": "code",
   "execution_count": null,
   "metadata": {},
   "outputs": [],
   "source": [
    "# plot marginals for 'age' random effects, grid and color by level\n",
    "\n",
    "xfx.misc.plot.plot_marginals(rfx_samples.loc['age'], 'level', 'level')"
   ]
  },
  {
   "cell_type": "code",
   "execution_count": null,
   "metadata": {},
   "outputs": [],
   "source": [
    "# plot ACFs for prior precisions, grid and color by level\n",
    "\n",
    "xfx.misc.plot.plot_acf(prec_samples, 'factor', 'factor')"
   ]
  }
 ],
 "metadata": {
  "kernelspec": {
   "display_name": "Python 3.8.10 ('xfx_remote-OVPgIAIG')",
   "language": "python",
   "name": "python3"
  },
  "language_info": {
   "codemirror_mode": {
    "name": "ipython",
    "version": 3
   },
   "file_extension": ".py",
   "mimetype": "text/x-python",
   "name": "python",
   "nbconvert_exporter": "python",
   "pygments_lexer": "ipython3",
   "version": "3.8.10"
  },
  "metadata": {
   "interpreter": {
    "hash": "48270a795beff4afac506b9f5a1bba57b2b1bd6227e7fa82f4fe31bf58cdd14a"
   }
  },
  "vscode": {
   "interpreter": {
    "hash": "ddbbe8e5178a225f2b82f2ae143c9947bc2a3a631e1ea4d19422502723324143"
   }
  }
 },
 "nbformat": 4,
 "nbformat_minor": 1
}
